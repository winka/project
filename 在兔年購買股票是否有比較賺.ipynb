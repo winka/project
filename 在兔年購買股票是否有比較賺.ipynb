{
 "cells": [
  {
   "cell_type": "code",
   "execution_count": 142,
   "id": "4a065c0a",
   "metadata": {
    "scrolled": false
   },
   "outputs": [
    {
     "data": {
      "text/html": [
       "<div>\n",
       "<style scoped>\n",
       "    .dataframe tbody tr th:only-of-type {\n",
       "        vertical-align: middle;\n",
       "    }\n",
       "\n",
       "    .dataframe tbody tr th {\n",
       "        vertical-align: top;\n",
       "    }\n",
       "\n",
       "    .dataframe thead th {\n",
       "        text-align: right;\n",
       "    }\n",
       "</style>\n",
       "<table border=\"1\" class=\"dataframe\">\n",
       "  <thead>\n",
       "    <tr style=\"text-align: right;\">\n",
       "      <th></th>\n",
       "      <th>交易 年度</th>\n",
       "      <th>開盤</th>\n",
       "      <th>最高</th>\n",
       "      <th>最低</th>\n",
       "      <th>收盤</th>\n",
       "      <th>漲跌</th>\n",
       "      <th>漲跌 (%)</th>\n",
       "      <th>振幅 (%)</th>\n",
       "      <th>生肖</th>\n",
       "      <th>year</th>\n",
       "      <th>生肖漲機率%</th>\n",
       "      <th>生肖跌機率%</th>\n",
       "      <th>漲跌文字</th>\n",
       "      <th>小跌</th>\n",
       "      <th>大跌</th>\n",
       "      <th>小漲</th>\n",
       "      <th>大漲</th>\n",
       "    </tr>\n",
       "  </thead>\n",
       "  <tbody>\n",
       "    <tr>\n",
       "      <th>1</th>\n",
       "      <td>2022</td>\n",
       "      <td>18260.23</td>\n",
       "      <td>18619.61</td>\n",
       "      <td>12629.48</td>\n",
       "      <td>14137.69</td>\n",
       "      <td>-4081.15</td>\n",
       "      <td>-22.40</td>\n",
       "      <td>32.9</td>\n",
       "      <td>虎</td>\n",
       "      <td>第三年</td>\n",
       "      <td>33</td>\n",
       "      <td>67</td>\n",
       "      <td>小跌</td>\n",
       "      <td>1</td>\n",
       "      <td>0</td>\n",
       "      <td>0</td>\n",
       "      <td>0</td>\n",
       "    </tr>\n",
       "    <tr>\n",
       "      <th>2</th>\n",
       "      <td>2021</td>\n",
       "      <td>14720.25</td>\n",
       "      <td>18291.25</td>\n",
       "      <td>14720.25</td>\n",
       "      <td>18218.84</td>\n",
       "      <td>3486.31</td>\n",
       "      <td>23.70</td>\n",
       "      <td>24.2</td>\n",
       "      <td>牛</td>\n",
       "      <td>第三年</td>\n",
       "      <td>100</td>\n",
       "      <td>0</td>\n",
       "      <td>小漲</td>\n",
       "      <td>0</td>\n",
       "      <td>0</td>\n",
       "      <td>1</td>\n",
       "      <td>0</td>\n",
       "    </tr>\n",
       "    <tr>\n",
       "      <th>3</th>\n",
       "      <td>2020</td>\n",
       "      <td>12026.50</td>\n",
       "      <td>14760.06</td>\n",
       "      <td>8523.63</td>\n",
       "      <td>14732.53</td>\n",
       "      <td>2735.39</td>\n",
       "      <td>22.80</td>\n",
       "      <td>52.0</td>\n",
       "      <td>鼠</td>\n",
       "      <td>第三年</td>\n",
       "      <td>67</td>\n",
       "      <td>33</td>\n",
       "      <td>小漲</td>\n",
       "      <td>0</td>\n",
       "      <td>0</td>\n",
       "      <td>1</td>\n",
       "      <td>0</td>\n",
       "    </tr>\n",
       "    <tr>\n",
       "      <th>4</th>\n",
       "      <td>2019</td>\n",
       "      <td>9725.27</td>\n",
       "      <td>12125.90</td>\n",
       "      <td>9319.28</td>\n",
       "      <td>11997.14</td>\n",
       "      <td>2269.73</td>\n",
       "      <td>23.30</td>\n",
       "      <td>28.9</td>\n",
       "      <td>豬</td>\n",
       "      <td>第三年</td>\n",
       "      <td>67</td>\n",
       "      <td>33</td>\n",
       "      <td>小漲</td>\n",
       "      <td>0</td>\n",
       "      <td>0</td>\n",
       "      <td>1</td>\n",
       "      <td>0</td>\n",
       "    </tr>\n",
       "    <tr>\n",
       "      <th>5</th>\n",
       "      <td>2018</td>\n",
       "      <td>10664.82</td>\n",
       "      <td>11270.18</td>\n",
       "      <td>9400.69</td>\n",
       "      <td>9727.41</td>\n",
       "      <td>-915.45</td>\n",
       "      <td>-8.60</td>\n",
       "      <td>17.6</td>\n",
       "      <td>狗</td>\n",
       "      <td>第三年</td>\n",
       "      <td>67</td>\n",
       "      <td>33</td>\n",
       "      <td>小跌</td>\n",
       "      <td>1</td>\n",
       "      <td>0</td>\n",
       "      <td>0</td>\n",
       "      <td>0</td>\n",
       "    </tr>\n",
       "    <tr>\n",
       "      <th>6</th>\n",
       "      <td>2017</td>\n",
       "      <td>9252.56</td>\n",
       "      <td>10882.65</td>\n",
       "      <td>9235.95</td>\n",
       "      <td>10642.86</td>\n",
       "      <td>1389.36</td>\n",
       "      <td>15.00</td>\n",
       "      <td>17.8</td>\n",
       "      <td>雞</td>\n",
       "      <td>第三年</td>\n",
       "      <td>100</td>\n",
       "      <td>0</td>\n",
       "      <td>小漲</td>\n",
       "      <td>0</td>\n",
       "      <td>0</td>\n",
       "      <td>1</td>\n",
       "      <td>0</td>\n",
       "    </tr>\n",
       "    <tr>\n",
       "      <th>7</th>\n",
       "      <td>2016</td>\n",
       "      <td>8315.79</td>\n",
       "      <td>9430.34</td>\n",
       "      <td>7627.89</td>\n",
       "      <td>9253.50</td>\n",
       "      <td>915.44</td>\n",
       "      <td>11.00</td>\n",
       "      <td>21.6</td>\n",
       "      <td>猴</td>\n",
       "      <td>第三年</td>\n",
       "      <td>67</td>\n",
       "      <td>33</td>\n",
       "      <td>小漲</td>\n",
       "      <td>0</td>\n",
       "      <td>0</td>\n",
       "      <td>1</td>\n",
       "      <td>0</td>\n",
       "    </tr>\n",
       "    <tr>\n",
       "      <th>8</th>\n",
       "      <td>2015</td>\n",
       "      <td>9292.31</td>\n",
       "      <td>10014.28</td>\n",
       "      <td>7203.07</td>\n",
       "      <td>8338.06</td>\n",
       "      <td>-969.20</td>\n",
       "      <td>-10.40</td>\n",
       "      <td>30.2</td>\n",
       "      <td>羊</td>\n",
       "      <td>第三年</td>\n",
       "      <td>67</td>\n",
       "      <td>33</td>\n",
       "      <td>小跌</td>\n",
       "      <td>1</td>\n",
       "      <td>0</td>\n",
       "      <td>0</td>\n",
       "      <td>0</td>\n",
       "    </tr>\n",
       "    <tr>\n",
       "      <th>9</th>\n",
       "      <td>2014</td>\n",
       "      <td>8618.60</td>\n",
       "      <td>9593.68</td>\n",
       "      <td>8230.46</td>\n",
       "      <td>9307.26</td>\n",
       "      <td>695.75</td>\n",
       "      <td>8.08</td>\n",
       "      <td>15.8</td>\n",
       "      <td>馬</td>\n",
       "      <td>第三年</td>\n",
       "      <td>33</td>\n",
       "      <td>67</td>\n",
       "      <td>小漲</td>\n",
       "      <td>0</td>\n",
       "      <td>0</td>\n",
       "      <td>1</td>\n",
       "      <td>0</td>\n",
       "    </tr>\n",
       "    <tr>\n",
       "      <th>10</th>\n",
       "      <td>2013</td>\n",
       "      <td>7738.05</td>\n",
       "      <td>8647.24</td>\n",
       "      <td>7603.27</td>\n",
       "      <td>8611.51</td>\n",
       "      <td>912.01</td>\n",
       "      <td>11.80</td>\n",
       "      <td>13.6</td>\n",
       "      <td>蛇</td>\n",
       "      <td>第三年</td>\n",
       "      <td>100</td>\n",
       "      <td>0</td>\n",
       "      <td>小漲</td>\n",
       "      <td>0</td>\n",
       "      <td>0</td>\n",
       "      <td>1</td>\n",
       "      <td>0</td>\n",
       "    </tr>\n",
       "    <tr>\n",
       "      <th>11</th>\n",
       "      <td>2012</td>\n",
       "      <td>7071.35</td>\n",
       "      <td>8170.72</td>\n",
       "      <td>6857.35</td>\n",
       "      <td>7699.50</td>\n",
       "      <td>627.42</td>\n",
       "      <td>8.87</td>\n",
       "      <td>18.6</td>\n",
       "      <td>龍</td>\n",
       "      <td>第三年</td>\n",
       "      <td>67</td>\n",
       "      <td>33</td>\n",
       "      <td>小漲</td>\n",
       "      <td>0</td>\n",
       "      <td>0</td>\n",
       "      <td>1</td>\n",
       "      <td>0</td>\n",
       "    </tr>\n",
       "    <tr>\n",
       "      <th>12</th>\n",
       "      <td>2011</td>\n",
       "      <td>9039.63</td>\n",
       "      <td>9220.69</td>\n",
       "      <td>6609.11</td>\n",
       "      <td>7072.08</td>\n",
       "      <td>-1900.42</td>\n",
       "      <td>-21.20</td>\n",
       "      <td>29.1</td>\n",
       "      <td>兔</td>\n",
       "      <td>第三年</td>\n",
       "      <td>67</td>\n",
       "      <td>33</td>\n",
       "      <td>小跌</td>\n",
       "      <td>1</td>\n",
       "      <td>0</td>\n",
       "      <td>0</td>\n",
       "      <td>0</td>\n",
       "    </tr>\n",
       "    <tr>\n",
       "      <th>13</th>\n",
       "      <td>2010</td>\n",
       "      <td>8222.42</td>\n",
       "      <td>8990.38</td>\n",
       "      <td>7032.40</td>\n",
       "      <td>8972.50</td>\n",
       "      <td>784.39</td>\n",
       "      <td>9.58</td>\n",
       "      <td>23.9</td>\n",
       "      <td>虎</td>\n",
       "      <td>第二年</td>\n",
       "      <td>33</td>\n",
       "      <td>67</td>\n",
       "      <td>小漲</td>\n",
       "      <td>0</td>\n",
       "      <td>0</td>\n",
       "      <td>1</td>\n",
       "      <td>0</td>\n",
       "    </tr>\n",
       "    <tr>\n",
       "      <th>14</th>\n",
       "      <td>2009</td>\n",
       "      <td>4725.26</td>\n",
       "      <td>8188.80</td>\n",
       "      <td>4164.19</td>\n",
       "      <td>8188.11</td>\n",
       "      <td>3596.89</td>\n",
       "      <td>78.30</td>\n",
       "      <td>87.7</td>\n",
       "      <td>牛</td>\n",
       "      <td>第二年</td>\n",
       "      <td>100</td>\n",
       "      <td>0</td>\n",
       "      <td>大漲</td>\n",
       "      <td>0</td>\n",
       "      <td>0</td>\n",
       "      <td>0</td>\n",
       "      <td>1</td>\n",
       "    </tr>\n",
       "    <tr>\n",
       "      <th>15</th>\n",
       "      <td>2008</td>\n",
       "      <td>8491.57</td>\n",
       "      <td>9309.95</td>\n",
       "      <td>3955.43</td>\n",
       "      <td>4591.22</td>\n",
       "      <td>-3915.06</td>\n",
       "      <td>-46.00</td>\n",
       "      <td>62.9</td>\n",
       "      <td>鼠</td>\n",
       "      <td>第二年</td>\n",
       "      <td>67</td>\n",
       "      <td>33</td>\n",
       "      <td>大跌</td>\n",
       "      <td>0</td>\n",
       "      <td>1</td>\n",
       "      <td>0</td>\n",
       "      <td>0</td>\n",
       "    </tr>\n",
       "    <tr>\n",
       "      <th>16</th>\n",
       "      <td>2007</td>\n",
       "      <td>7871.41</td>\n",
       "      <td>9859.65</td>\n",
       "      <td>7306.07</td>\n",
       "      <td>8506.28</td>\n",
       "      <td>682.56</td>\n",
       "      <td>8.72</td>\n",
       "      <td>32.6</td>\n",
       "      <td>豬</td>\n",
       "      <td>第二年</td>\n",
       "      <td>67</td>\n",
       "      <td>33</td>\n",
       "      <td>小漲</td>\n",
       "      <td>0</td>\n",
       "      <td>0</td>\n",
       "      <td>1</td>\n",
       "      <td>0</td>\n",
       "    </tr>\n",
       "    <tr>\n",
       "      <th>17</th>\n",
       "      <td>2006</td>\n",
       "      <td>6457.61</td>\n",
       "      <td>7823.72</td>\n",
       "      <td>6232.49</td>\n",
       "      <td>7823.72</td>\n",
       "      <td>1275.38</td>\n",
       "      <td>19.50</td>\n",
       "      <td>24.3</td>\n",
       "      <td>狗</td>\n",
       "      <td>第二年</td>\n",
       "      <td>67</td>\n",
       "      <td>33</td>\n",
       "      <td>小漲</td>\n",
       "      <td>0</td>\n",
       "      <td>0</td>\n",
       "      <td>1</td>\n",
       "      <td>0</td>\n",
       "    </tr>\n",
       "    <tr>\n",
       "      <th>18</th>\n",
       "      <td>2005</td>\n",
       "      <td>6166.39</td>\n",
       "      <td>6600.17</td>\n",
       "      <td>5565.41</td>\n",
       "      <td>6548.34</td>\n",
       "      <td>408.65</td>\n",
       "      <td>6.66</td>\n",
       "      <td>16.9</td>\n",
       "      <td>雞</td>\n",
       "      <td>第二年</td>\n",
       "      <td>100</td>\n",
       "      <td>0</td>\n",
       "      <td>小漲</td>\n",
       "      <td>0</td>\n",
       "      <td>0</td>\n",
       "      <td>1</td>\n",
       "      <td>0</td>\n",
       "    </tr>\n",
       "    <tr>\n",
       "      <th>19</th>\n",
       "      <td>2004</td>\n",
       "      <td>5907.15</td>\n",
       "      <td>7135.00</td>\n",
       "      <td>5255.06</td>\n",
       "      <td>6139.69</td>\n",
       "      <td>249.00</td>\n",
       "      <td>4.23</td>\n",
       "      <td>31.9</td>\n",
       "      <td>猴</td>\n",
       "      <td>第二年</td>\n",
       "      <td>67</td>\n",
       "      <td>33</td>\n",
       "      <td>小漲</td>\n",
       "      <td>0</td>\n",
       "      <td>0</td>\n",
       "      <td>1</td>\n",
       "      <td>0</td>\n",
       "    </tr>\n",
       "    <tr>\n",
       "      <th>20</th>\n",
       "      <td>2003</td>\n",
       "      <td>4460.57</td>\n",
       "      <td>6182.20</td>\n",
       "      <td>4044.73</td>\n",
       "      <td>5890.69</td>\n",
       "      <td>1438.24</td>\n",
       "      <td>32.30</td>\n",
       "      <td>48.0</td>\n",
       "      <td>羊</td>\n",
       "      <td>第二年</td>\n",
       "      <td>67</td>\n",
       "      <td>33</td>\n",
       "      <td>大漲</td>\n",
       "      <td>0</td>\n",
       "      <td>0</td>\n",
       "      <td>0</td>\n",
       "      <td>1</td>\n",
       "    </tr>\n",
       "    <tr>\n",
       "      <th>21</th>\n",
       "      <td>2002</td>\n",
       "      <td>5575.34</td>\n",
       "      <td>6484.93</td>\n",
       "      <td>3845.76</td>\n",
       "      <td>4452.45</td>\n",
       "      <td>-1098.79</td>\n",
       "      <td>-19.80</td>\n",
       "      <td>47.5</td>\n",
       "      <td>馬</td>\n",
       "      <td>第二年</td>\n",
       "      <td>33</td>\n",
       "      <td>67</td>\n",
       "      <td>小跌</td>\n",
       "      <td>1</td>\n",
       "      <td>0</td>\n",
       "      <td>0</td>\n",
       "      <td>0</td>\n",
       "    </tr>\n",
       "    <tr>\n",
       "      <th>22</th>\n",
       "      <td>2001</td>\n",
       "      <td>4717.49</td>\n",
       "      <td>6198.22</td>\n",
       "      <td>3411.68</td>\n",
       "      <td>5551.24</td>\n",
       "      <td>812.15</td>\n",
       "      <td>17.10</td>\n",
       "      <td>58.8</td>\n",
       "      <td>蛇</td>\n",
       "      <td>第二年</td>\n",
       "      <td>100</td>\n",
       "      <td>0</td>\n",
       "      <td>小漲</td>\n",
       "      <td>0</td>\n",
       "      <td>0</td>\n",
       "      <td>1</td>\n",
       "      <td>0</td>\n",
       "    </tr>\n",
       "    <tr>\n",
       "      <th>23</th>\n",
       "      <td>2000</td>\n",
       "      <td>8644.91</td>\n",
       "      <td>10393.50</td>\n",
       "      <td>4555.91</td>\n",
       "      <td>4739.09</td>\n",
       "      <td>-3709.75</td>\n",
       "      <td>-43.90</td>\n",
       "      <td>69.1</td>\n",
       "      <td>龍</td>\n",
       "      <td>第二年</td>\n",
       "      <td>67</td>\n",
       "      <td>33</td>\n",
       "      <td>大跌</td>\n",
       "      <td>0</td>\n",
       "      <td>1</td>\n",
       "      <td>0</td>\n",
       "      <td>0</td>\n",
       "    </tr>\n",
       "    <tr>\n",
       "      <th>24</th>\n",
       "      <td>1999</td>\n",
       "      <td>6310.41</td>\n",
       "      <td>8710.71</td>\n",
       "      <td>5422.66</td>\n",
       "      <td>8448.84</td>\n",
       "      <td>2030.41</td>\n",
       "      <td>31.60</td>\n",
       "      <td>51.2</td>\n",
       "      <td>兔</td>\n",
       "      <td>第二年</td>\n",
       "      <td>67</td>\n",
       "      <td>33</td>\n",
       "      <td>大漲</td>\n",
       "      <td>0</td>\n",
       "      <td>0</td>\n",
       "      <td>0</td>\n",
       "      <td>1</td>\n",
       "    </tr>\n",
       "    <tr>\n",
       "      <th>25</th>\n",
       "      <td>1998</td>\n",
       "      <td>8200.78</td>\n",
       "      <td>9378.52</td>\n",
       "      <td>6219.89</td>\n",
       "      <td>6418.43</td>\n",
       "      <td>-1768.84</td>\n",
       "      <td>-21.60</td>\n",
       "      <td>38.6</td>\n",
       "      <td>虎</td>\n",
       "      <td>第一年</td>\n",
       "      <td>33</td>\n",
       "      <td>67</td>\n",
       "      <td>小跌</td>\n",
       "      <td>1</td>\n",
       "      <td>0</td>\n",
       "      <td>0</td>\n",
       "      <td>0</td>\n",
       "    </tr>\n",
       "    <tr>\n",
       "      <th>26</th>\n",
       "      <td>1997</td>\n",
       "      <td>6806.30</td>\n",
       "      <td>10256.10</td>\n",
       "      <td>6789.34</td>\n",
       "      <td>8187.27</td>\n",
       "      <td>1253.33</td>\n",
       "      <td>18.10</td>\n",
       "      <td>50.0</td>\n",
       "      <td>牛</td>\n",
       "      <td>第一年</td>\n",
       "      <td>100</td>\n",
       "      <td>0</td>\n",
       "      <td>小漲</td>\n",
       "      <td>0</td>\n",
       "      <td>0</td>\n",
       "      <td>1</td>\n",
       "      <td>0</td>\n",
       "    </tr>\n",
       "    <tr>\n",
       "      <th>27</th>\n",
       "      <td>1996</td>\n",
       "      <td>5200.72</td>\n",
       "      <td>7084.25</td>\n",
       "      <td>4672.67</td>\n",
       "      <td>6933.94</td>\n",
       "      <td>1760.22</td>\n",
       "      <td>34.00</td>\n",
       "      <td>46.6</td>\n",
       "      <td>鼠</td>\n",
       "      <td>第一年</td>\n",
       "      <td>67</td>\n",
       "      <td>33</td>\n",
       "      <td>大漲</td>\n",
       "      <td>0</td>\n",
       "      <td>0</td>\n",
       "      <td>0</td>\n",
       "      <td>1</td>\n",
       "    </tr>\n",
       "    <tr>\n",
       "      <th>28</th>\n",
       "      <td>1995</td>\n",
       "      <td>7129.94</td>\n",
       "      <td>7144.70</td>\n",
       "      <td>4474.32</td>\n",
       "      <td>5173.72</td>\n",
       "      <td>-1950.94</td>\n",
       "      <td>-27.40</td>\n",
       "      <td>37.5</td>\n",
       "      <td>豬</td>\n",
       "      <td>第一年</td>\n",
       "      <td>67</td>\n",
       "      <td>33</td>\n",
       "      <td>大跌</td>\n",
       "      <td>0</td>\n",
       "      <td>1</td>\n",
       "      <td>0</td>\n",
       "      <td>0</td>\n",
       "    </tr>\n",
       "    <tr>\n",
       "      <th>29</th>\n",
       "      <td>1994</td>\n",
       "      <td>6120.10</td>\n",
       "      <td>7228.33</td>\n",
       "      <td>5125.64</td>\n",
       "      <td>7124.66</td>\n",
       "      <td>1054.10</td>\n",
       "      <td>17.40</td>\n",
       "      <td>34.6</td>\n",
       "      <td>狗</td>\n",
       "      <td>第一年</td>\n",
       "      <td>67</td>\n",
       "      <td>33</td>\n",
       "      <td>小漲</td>\n",
       "      <td>0</td>\n",
       "      <td>0</td>\n",
       "      <td>1</td>\n",
       "      <td>0</td>\n",
       "    </tr>\n",
       "    <tr>\n",
       "      <th>30</th>\n",
       "      <td>1993</td>\n",
       "      <td>3408.10</td>\n",
       "      <td>6120.19</td>\n",
       "      <td>3098.33</td>\n",
       "      <td>6070.56</td>\n",
       "      <td>2693.50</td>\n",
       "      <td>79.80</td>\n",
       "      <td>89.5</td>\n",
       "      <td>雞</td>\n",
       "      <td>第一年</td>\n",
       "      <td>100</td>\n",
       "      <td>0</td>\n",
       "      <td>大漲</td>\n",
       "      <td>0</td>\n",
       "      <td>0</td>\n",
       "      <td>0</td>\n",
       "      <td>1</td>\n",
       "    </tr>\n",
       "    <tr>\n",
       "      <th>31</th>\n",
       "      <td>1992</td>\n",
       "      <td>4640.51</td>\n",
       "      <td>5459.08</td>\n",
       "      <td>3305.82</td>\n",
       "      <td>3377.06</td>\n",
       "      <td>-1223.61</td>\n",
       "      <td>-26.60</td>\n",
       "      <td>46.8</td>\n",
       "      <td>猴</td>\n",
       "      <td>第一年</td>\n",
       "      <td>67</td>\n",
       "      <td>33</td>\n",
       "      <td>小跌</td>\n",
       "      <td>1</td>\n",
       "      <td>0</td>\n",
       "      <td>0</td>\n",
       "      <td>0</td>\n",
       "    </tr>\n",
       "    <tr>\n",
       "      <th>32</th>\n",
       "      <td>1991</td>\n",
       "      <td>4465.26</td>\n",
       "      <td>6365.61</td>\n",
       "      <td>3142.59</td>\n",
       "      <td>4600.67</td>\n",
       "      <td>70.51</td>\n",
       "      <td>1.56</td>\n",
       "      <td>71.1</td>\n",
       "      <td>羊</td>\n",
       "      <td>第一年</td>\n",
       "      <td>67</td>\n",
       "      <td>33</td>\n",
       "      <td>小漲</td>\n",
       "      <td>0</td>\n",
       "      <td>0</td>\n",
       "      <td>1</td>\n",
       "      <td>0</td>\n",
       "    </tr>\n",
       "    <tr>\n",
       "      <th>33</th>\n",
       "      <td>1990</td>\n",
       "      <td>9624.18</td>\n",
       "      <td>12682.41</td>\n",
       "      <td>2485.25</td>\n",
       "      <td>4530.16</td>\n",
       "      <td>-5094.02</td>\n",
       "      <td>-52.90</td>\n",
       "      <td>106.0</td>\n",
       "      <td>馬</td>\n",
       "      <td>第一年</td>\n",
       "      <td>33</td>\n",
       "      <td>67</td>\n",
       "      <td>大跌</td>\n",
       "      <td>0</td>\n",
       "      <td>1</td>\n",
       "      <td>0</td>\n",
       "      <td>0</td>\n",
       "    </tr>\n",
       "    <tr>\n",
       "      <th>34</th>\n",
       "      <td>1989</td>\n",
       "      <td>5119.10</td>\n",
       "      <td>10843.96</td>\n",
       "      <td>4645.97</td>\n",
       "      <td>9624.18</td>\n",
       "      <td>4505.08</td>\n",
       "      <td>88.00</td>\n",
       "      <td>121.0</td>\n",
       "      <td>蛇</td>\n",
       "      <td>第一年</td>\n",
       "      <td>100</td>\n",
       "      <td>0</td>\n",
       "      <td>大漲</td>\n",
       "      <td>0</td>\n",
       "      <td>0</td>\n",
       "      <td>0</td>\n",
       "      <td>1</td>\n",
       "    </tr>\n",
       "    <tr>\n",
       "      <th>35</th>\n",
       "      <td>1988</td>\n",
       "      <td>2339.86</td>\n",
       "      <td>8813.75</td>\n",
       "      <td>2306.64</td>\n",
       "      <td>5119.10</td>\n",
       "      <td>2779.24</td>\n",
       "      <td>119.00</td>\n",
       "      <td>278.0</td>\n",
       "      <td>龍</td>\n",
       "      <td>第一年</td>\n",
       "      <td>67</td>\n",
       "      <td>33</td>\n",
       "      <td>大漲</td>\n",
       "      <td>0</td>\n",
       "      <td>0</td>\n",
       "      <td>0</td>\n",
       "      <td>1</td>\n",
       "    </tr>\n",
       "    <tr>\n",
       "      <th>36</th>\n",
       "      <td>1987</td>\n",
       "      <td>1063.13</td>\n",
       "      <td>4796.72</td>\n",
       "      <td>1063.13</td>\n",
       "      <td>2339.86</td>\n",
       "      <td>1276.73</td>\n",
       "      <td>120.00</td>\n",
       "      <td>351.0</td>\n",
       "      <td>兔</td>\n",
       "      <td>第一年</td>\n",
       "      <td>67</td>\n",
       "      <td>33</td>\n",
       "      <td>大漲</td>\n",
       "      <td>0</td>\n",
       "      <td>0</td>\n",
       "      <td>0</td>\n",
       "      <td>1</td>\n",
       "    </tr>\n",
       "  </tbody>\n",
       "</table>\n",
       "</div>"
      ],
      "text/plain": [
       "    交易 年度        開盤        最高        最低        收盤       漲跌  漲跌 (%)  振幅 (%) 生肖  \\\n",
       "1    2022  18260.23  18619.61  12629.48  14137.69 -4081.15  -22.40    32.9  虎   \n",
       "2    2021  14720.25  18291.25  14720.25  18218.84  3486.31   23.70    24.2  牛   \n",
       "3    2020  12026.50  14760.06   8523.63  14732.53  2735.39   22.80    52.0  鼠   \n",
       "4    2019   9725.27  12125.90   9319.28  11997.14  2269.73   23.30    28.9  豬   \n",
       "5    2018  10664.82  11270.18   9400.69   9727.41  -915.45   -8.60    17.6  狗   \n",
       "6    2017   9252.56  10882.65   9235.95  10642.86  1389.36   15.00    17.8  雞   \n",
       "7    2016   8315.79   9430.34   7627.89   9253.50   915.44   11.00    21.6  猴   \n",
       "8    2015   9292.31  10014.28   7203.07   8338.06  -969.20  -10.40    30.2  羊   \n",
       "9    2014   8618.60   9593.68   8230.46   9307.26   695.75    8.08    15.8  馬   \n",
       "10   2013   7738.05   8647.24   7603.27   8611.51   912.01   11.80    13.6  蛇   \n",
       "11   2012   7071.35   8170.72   6857.35   7699.50   627.42    8.87    18.6  龍   \n",
       "12   2011   9039.63   9220.69   6609.11   7072.08 -1900.42  -21.20    29.1  兔   \n",
       "13   2010   8222.42   8990.38   7032.40   8972.50   784.39    9.58    23.9  虎   \n",
       "14   2009   4725.26   8188.80   4164.19   8188.11  3596.89   78.30    87.7  牛   \n",
       "15   2008   8491.57   9309.95   3955.43   4591.22 -3915.06  -46.00    62.9  鼠   \n",
       "16   2007   7871.41   9859.65   7306.07   8506.28   682.56    8.72    32.6  豬   \n",
       "17   2006   6457.61   7823.72   6232.49   7823.72  1275.38   19.50    24.3  狗   \n",
       "18   2005   6166.39   6600.17   5565.41   6548.34   408.65    6.66    16.9  雞   \n",
       "19   2004   5907.15   7135.00   5255.06   6139.69   249.00    4.23    31.9  猴   \n",
       "20   2003   4460.57   6182.20   4044.73   5890.69  1438.24   32.30    48.0  羊   \n",
       "21   2002   5575.34   6484.93   3845.76   4452.45 -1098.79  -19.80    47.5  馬   \n",
       "22   2001   4717.49   6198.22   3411.68   5551.24   812.15   17.10    58.8  蛇   \n",
       "23   2000   8644.91  10393.50   4555.91   4739.09 -3709.75  -43.90    69.1  龍   \n",
       "24   1999   6310.41   8710.71   5422.66   8448.84  2030.41   31.60    51.2  兔   \n",
       "25   1998   8200.78   9378.52   6219.89   6418.43 -1768.84  -21.60    38.6  虎   \n",
       "26   1997   6806.30  10256.10   6789.34   8187.27  1253.33   18.10    50.0  牛   \n",
       "27   1996   5200.72   7084.25   4672.67   6933.94  1760.22   34.00    46.6  鼠   \n",
       "28   1995   7129.94   7144.70   4474.32   5173.72 -1950.94  -27.40    37.5  豬   \n",
       "29   1994   6120.10   7228.33   5125.64   7124.66  1054.10   17.40    34.6  狗   \n",
       "30   1993   3408.10   6120.19   3098.33   6070.56  2693.50   79.80    89.5  雞   \n",
       "31   1992   4640.51   5459.08   3305.82   3377.06 -1223.61  -26.60    46.8  猴   \n",
       "32   1991   4465.26   6365.61   3142.59   4600.67    70.51    1.56    71.1  羊   \n",
       "33   1990   9624.18  12682.41   2485.25   4530.16 -5094.02  -52.90   106.0  馬   \n",
       "34   1989   5119.10  10843.96   4645.97   9624.18  4505.08   88.00   121.0  蛇   \n",
       "35   1988   2339.86   8813.75   2306.64   5119.10  2779.24  119.00   278.0  龍   \n",
       "36   1987   1063.13   4796.72   1063.13   2339.86  1276.73  120.00   351.0  兔   \n",
       "\n",
       "   year  生肖漲機率%  生肖跌機率% 漲跌文字  小跌  大跌  小漲  大漲  \n",
       "1   第三年      33      67   小跌   1   0   0   0  \n",
       "2   第三年     100       0   小漲   0   0   1   0  \n",
       "3   第三年      67      33   小漲   0   0   1   0  \n",
       "4   第三年      67      33   小漲   0   0   1   0  \n",
       "5   第三年      67      33   小跌   1   0   0   0  \n",
       "6   第三年     100       0   小漲   0   0   1   0  \n",
       "7   第三年      67      33   小漲   0   0   1   0  \n",
       "8   第三年      67      33   小跌   1   0   0   0  \n",
       "9   第三年      33      67   小漲   0   0   1   0  \n",
       "10  第三年     100       0   小漲   0   0   1   0  \n",
       "11  第三年      67      33   小漲   0   0   1   0  \n",
       "12  第三年      67      33   小跌   1   0   0   0  \n",
       "13  第二年      33      67   小漲   0   0   1   0  \n",
       "14  第二年     100       0   大漲   0   0   0   1  \n",
       "15  第二年      67      33   大跌   0   1   0   0  \n",
       "16  第二年      67      33   小漲   0   0   1   0  \n",
       "17  第二年      67      33   小漲   0   0   1   0  \n",
       "18  第二年     100       0   小漲   0   0   1   0  \n",
       "19  第二年      67      33   小漲   0   0   1   0  \n",
       "20  第二年      67      33   大漲   0   0   0   1  \n",
       "21  第二年      33      67   小跌   1   0   0   0  \n",
       "22  第二年     100       0   小漲   0   0   1   0  \n",
       "23  第二年      67      33   大跌   0   1   0   0  \n",
       "24  第二年      67      33   大漲   0   0   0   1  \n",
       "25  第一年      33      67   小跌   1   0   0   0  \n",
       "26  第一年     100       0   小漲   0   0   1   0  \n",
       "27  第一年      67      33   大漲   0   0   0   1  \n",
       "28  第一年      67      33   大跌   0   1   0   0  \n",
       "29  第一年      67      33   小漲   0   0   1   0  \n",
       "30  第一年     100       0   大漲   0   0   0   1  \n",
       "31  第一年      67      33   小跌   1   0   0   0  \n",
       "32  第一年      67      33   小漲   0   0   1   0  \n",
       "33  第一年      33      67   大跌   0   1   0   0  \n",
       "34  第一年     100       0   大漲   0   0   0   1  \n",
       "35  第一年      67      33   大漲   0   0   0   1  \n",
       "36  第一年      67      33   大漲   0   0   0   1  "
      ]
     },
     "execution_count": 142,
     "metadata": {},
     "output_type": "execute_result"
    }
   ],
   "source": [
    "import pandas as pd \n",
    "import numpy as np\n",
    "import matplotlib.pyplot as plt\n",
    "table = pd.read_html('file:///C://Users//USER//Downloads//K_Chart.html')\n",
    "table[0]\n",
    "data = pd.DataFrame(table[0])\n",
    "data.columns = data.columns.droplevel(1)# remove MultiIndex \n",
    "data = data.drop(['交易 日數','總成交 (億元)', '日成交 均量', '法人買賣超 (億元)', '法人買賣超 (億元)', '法人買賣超 (億元)',\n",
    "       '法人買賣超 (億元)', '融資 (億元)', '融資 (億元)', '融券 (萬張)', '融券 (萬張)'], axis=1)\n",
    "\n",
    "animal = {4: '鼠', 5: '牛', 6: '虎', 7: '兔', 8: '龍', 9: '蛇', 10: '馬', 11: '羊', \n",
    "          0: '猴', 1: '雞', 2: '狗', 3: '豬'}\n",
    "\n",
    "\n",
    "year = {0:'第三年', 1:'第二年', 2:'第一年'}\n",
    "\n",
    "# 新增欄位\n",
    "data['生肖'] = data.loc[:,'交易 年度'] % 12\n",
    "data['year'] = 0\n",
    " \n",
    "data['生肖漲機率%'] = 0\n",
    "data['生肖跌機率%'] = 0\n",
    "data['漲跌文字'] = 0\n",
    "data['小跌'] = 0\n",
    "data['大跌'] = 0\n",
    "data['小漲'] = 0\n",
    "data['大漲'] = 0\n",
    "\n",
    "# add 生肖 \n",
    "for i,j in enumerate(data['生肖'])  :\n",
    "    data.loc[i,'生肖'] = animal[j]\n",
    "\n",
    "# add 生肖 第一年 第二年 第三年\n",
    "for i in range(data.shape[0]):\n",
    "    if data.loc[i,'交易 年度'] in range(2011,2023):\n",
    "        data.loc[i,'year'] = '第三年'\n",
    "    elif data.loc[i,'交易 年度'] in range(1999,2011):\n",
    "         data.loc[i,'year'] = '第二年'\n",
    "    else:\n",
    "         data.loc[i,'year'] = '第一年'\n",
    "            \n",
    "# 判斷當年漲跌 \n",
    "for i in range(data.shape[0]):\n",
    "    if data.loc[i,'漲跌 (%)'] < 0 :\n",
    "        # 大於跌平均 = 大跌\n",
    "        if data.loc[i,'漲跌 (%)'] <  data.loc[data['漲跌 (%)'] < 0,'漲跌 (%)'].mean():\n",
    "             data.loc[i,'漲跌文字'] = '大跌' \n",
    "        # 小於跌平均 = 小跌\n",
    "        else :\n",
    "            data.loc[i,'漲跌文字'] = '小跌'           \n",
    "    else : \n",
    "        # 大於漲平均 = 大漲 \n",
    "        if data.loc[i,'漲跌 (%)'] > data.loc[data['漲跌 (%)'] > 0,'漲跌 (%)'].mean():\n",
    "            data.loc[i,'漲跌文字'] = '大漲' \n",
    "        # 小於漲平均 = 小漲 \n",
    "        else :\n",
    "            data.loc[i,'漲跌文字'] = '小漲'\n",
    "\n",
    "            \n",
    "# 漲跌機率            \n",
    "# 新增兩個字典 \n",
    "dict_up, dict_down = {}, {}\n",
    "for i in range(1,data.shape[0]):\n",
    "    # 漲跌 (%) > 0 dict_up 加 1 ， 並且在 dict_down 設定初始值 0\n",
    "    if data.loc[i,'漲跌 (%)'] > 0 :\n",
    "        dict_up[data.loc[i,'生肖']] = dict_up.get(data.loc[i,'生肖'],0) + 1\n",
    "        dict_down[data.loc[i,'生肖']] = dict_down.get(data.loc[i,'生肖'],0)\n",
    "    # 漲跌 (%) < 0 dict_up 加 1\n",
    "    else :\n",
    "        dict_down[data.loc[i,'生肖']] = dict_down.get(data.loc[i,'生肖'],0) + 1\n",
    "        \n",
    "# 計算各生肖漲機率百分比\n",
    "for i in range(1,data.shape[0]):    \n",
    "    data.loc[i,'生肖漲機率%'] = round(dict_up[data.loc[i,'生肖']] / 3 * 100)\n",
    "    data.loc[i,'生肖跌機率%'] = round(dict_down[data.loc[i,'生肖']] / 3 * 100)\n",
    "\n",
    "# 計算各生肖 大跌、小跌、小漲、大跌次數\n",
    "# pandas.get_dummies()\n",
    "for i in range(1,data.shape[0]):\n",
    "    if data.loc[i,'漲跌文字'] == '大漲':\n",
    "        data.loc[i,'大漲'] += 1\n",
    "    elif data.loc[i,'漲跌文字'] == '小漲':\n",
    "        data.loc[i,'小漲'] += 1\n",
    "    elif data.loc[i,'漲跌文字'] == '大跌':\n",
    "        data.loc[i,'大跌'] += 1\n",
    "    else : data.loc[i,'小跌'] += 1\n",
    "        \n",
    "# drop 2023\n",
    "data = data.drop(0)\n",
    "data"
   ]
  },
  {
   "cell_type": "code",
   "execution_count": 8,
   "id": "23d8b8a1",
   "metadata": {
    "scrolled": true
   },
   "outputs": [
    {
     "name": "stdout",
     "output_type": "stream",
     "text": [
      "{'虎': 2, '牛': 0, '鼠': 0, '豬': 0, '狗': 1, '雞': 0, '猴': 1, '羊': 1, '馬': 1, '蛇': 0, '龍': 0, '兔': 1}\n",
      "{'虎': 0, '牛': 0, '鼠': 1, '豬': 1, '狗': 0, '雞': 0, '猴': 0, '羊': 0, '馬': 1, '蛇': 0, '龍': 1, '兔': 0}\n",
      "{'虎': 1, '牛': 2, '鼠': 1, '豬': 2, '狗': 2, '雞': 2, '猴': 2, '羊': 1, '馬': 1, '蛇': 2, '龍': 1, '兔': 0}\n",
      "{'虎': 0, '牛': 1, '鼠': 1, '豬': 0, '狗': 0, '雞': 1, '猴': 0, '羊': 1, '馬': 0, '蛇': 1, '龍': 1, '兔': 2}\n"
     ]
    }
   ],
   "source": [
    "littledown, down, up, bigup   = {}, {}, {}, {}\n",
    "\n",
    "# 計算大跌、小跌、小漲、大漲次數\n",
    "for i in range(1,data.shape[0]+1):\n",
    "    if data.loc[i,'小跌'] == 1 :\n",
    "        littledown[data.loc[i,'生肖']] = littledown.get(data.loc[i,'生肖'],0) + 1 \n",
    "    elif data.loc[i,'大跌'] == 1 :\n",
    "        down[data.loc[i,'生肖']] = down.get(data.loc[i,'生肖'],0) + 1 \n",
    "    elif data.loc[i,'小漲'] == 1 :\n",
    "        up[data.loc[i,'生肖']] = up.get(data.loc[i,'生肖'],0) + 1\n",
    "    elif data.loc[i,'大漲'] == 1 :\n",
    "        bigup[data.loc[i,'生肖']] = bigup.get(data.loc[i,'生肖'],0) + 1\n",
    "    # 沒有填 0\n",
    "    littledown[data.loc[i,'生肖']] = littledown.get(data.loc[i,'生肖'],0)\n",
    "    down[data.loc[i,'生肖']] = down.get(data.loc[i,'生肖'],0)\n",
    "    up[data.loc[i,'生肖']] = up.get(data.loc[i,'生肖'],0)\n",
    "    bigup[data.loc[i,'生肖']] = bigup.get(data.loc[i,'生肖'],0)\n",
    "    \n",
    "print(littledown)\n",
    "print(down)\n",
    "print(up)\n",
    "print(bigup)"
   ]
  },
  {
   "cell_type": "code",
   "execution_count": 115,
   "id": "93a38f08",
   "metadata": {},
   "outputs": [
    {
     "data": {
      "text/plain": [
       "['__class__',\n",
       " '__class_getitem__',\n",
       " '__contains__',\n",
       " '__delattr__',\n",
       " '__delitem__',\n",
       " '__dir__',\n",
       " '__doc__',\n",
       " '__eq__',\n",
       " '__format__',\n",
       " '__ge__',\n",
       " '__getattribute__',\n",
       " '__getitem__',\n",
       " '__gt__',\n",
       " '__hash__',\n",
       " '__init__',\n",
       " '__init_subclass__',\n",
       " '__ior__',\n",
       " '__iter__',\n",
       " '__le__',\n",
       " '__len__',\n",
       " '__lt__',\n",
       " '__ne__',\n",
       " '__new__',\n",
       " '__or__',\n",
       " '__reduce__',\n",
       " '__reduce_ex__',\n",
       " '__repr__',\n",
       " '__reversed__',\n",
       " '__ror__',\n",
       " '__setattr__',\n",
       " '__setitem__',\n",
       " '__sizeof__',\n",
       " '__str__',\n",
       " '__subclasshook__',\n",
       " 'clear',\n",
       " 'copy',\n",
       " 'fromkeys',\n",
       " 'get',\n",
       " 'items',\n",
       " 'keys',\n",
       " 'pop',\n",
       " 'popitem',\n",
       " 'setdefault',\n",
       " 'update',\n",
       " 'values']"
      ]
     },
     "execution_count": 115,
     "metadata": {},
     "output_type": "execute_result"
    }
   ],
   "source": [
    "dir(dict)"
   ]
  },
  {
   "cell_type": "code",
   "execution_count": 117,
   "id": "7cd95aa3",
   "metadata": {},
   "outputs": [
    {
     "data": {
      "text/plain": [
       "dict_values([0, 0, 1, 1, 0, 0, 0, 0, 1, 0, 1, 0])"
      ]
     },
     "execution_count": 117,
     "metadata": {},
     "output_type": "execute_result"
    }
   ],
   "source": [
    "down.values()"
   ]
  },
  {
   "cell_type": "code",
   "execution_count": 6,
   "id": "78e2a360",
   "metadata": {},
   "outputs": [],
   "source": [
    "littledowns, downs, ups, bigups = [] ,[],[],[]"
   ]
  },
  {
   "cell_type": "code",
   "execution_count": 15,
   "id": "715d8b0c",
   "metadata": {},
   "outputs": [
    {
     "data": {
      "text/plain": [
       "[2, 0, 0, 0, 1, 0, 1, 1, 1, 0, 0, 1]"
      ]
     },
     "execution_count": 15,
     "metadata": {},
     "output_type": "execute_result"
    }
   ],
   "source": [
    "list(littledown.values())"
   ]
  },
  {
   "cell_type": "code",
   "execution_count": 13,
   "id": "c9a80aff",
   "metadata": {},
   "outputs": [
    {
     "name": "stdout",
     "output_type": "stream",
     "text": [
      "虎 0 1 虎\n",
      "牛 0 2 牛\n",
      "鼠 1 1 鼠\n",
      "豬 1 2 豬\n",
      "狗 0 2 狗\n",
      "雞 0 2 雞\n",
      "猴 0 2 猴\n",
      "羊 0 1 羊\n",
      "馬 1 1 馬\n",
      "蛇 0 2 蛇\n",
      "龍 1 1 龍\n",
      "兔 0 0 兔\n"
     ]
    }
   ],
   "source": [
    "# dict values into list then draw\n",
    "\n",
    "for i,j,k,l in zip(littledown.keys(),down.values(),up.values(),bigup):\n",
    "    print(i,j,k,l)\n",
    "#     littledowns.append(littledown[i])\n",
    "#     downs.append(down[j])\n",
    "#     up.append(up[k])\n",
    "#     bigup.append(bigup[l])\n",
    "# print(littledowns)"
   ]
  },
  {
   "cell_type": "code",
   "execution_count": 71,
   "id": "c4f5818e",
   "metadata": {},
   "outputs": [
    {
     "name": "stdout",
     "output_type": "stream",
     "text": [
      "1 4\n",
      "2 5\n",
      "3 6\n"
     ]
    }
   ],
   "source": [
    "list1, list2 = [1,2,3],[4,5,6]\n",
    "for i,j in zip(* (list1,list2)):\n",
    "        print(i,j)\n"
   ]
  },
  {
   "cell_type": "code",
   "execution_count": 99,
   "id": "98119784",
   "metadata": {},
   "outputs": [
    {
     "data": {
      "image/png": "[encoded data removed]",
      "text/plain": [
       "<Figure size 640x480 with 12 Axes>"
      ]
     },
     "metadata": {},
     "output_type": "display_data"
    }
   ],
   "source": [
    "import numpy as np\n",
    "fig, ax = plt.subplots(nrows=6,ncols=2)\n",
    "x = np.arange(4)\n",
    "# ax[0][0].bar(data.loc['生肖']=='鼠',data['漲跌文字'])\n",
    "row, col = 0, 0\n",
    "for i,j,k,l in zip( littledown.items(),down.values(),up.values(),bigup.values()):\n",
    "    temp = []\n",
    "    if col == 2 :\n",
    "        col = 0\n",
    "        row += 1\n",
    "    temp = [i[1],j,k,l]\n",
    "    ax[row][col].set_xticks(x , ['小跌','大跌','小漲','大漲'])\n",
    "    ax[row][col].bar(x,temp)\n",
    "    col += 1\n",
    "\n",
    "    \n",
    "#     plt.labe\n",
    "    \n",
    "#     print(temp)\n",
    "#     print(i,j,k,l)\n"
   ]
  },
  {
   "cell_type": "code",
   "execution_count": 143,
   "id": "cdb2d076",
   "metadata": {},
   "outputs": [
    {
     "name": "stdout",
     "output_type": "stream",
     "text": [
      "0\n"
     ]
    },
    {
     "data": {
      "image/png": "[encoded data removed]",
      "text/plain": [
       "<Figure size 640x480 with 1 Axes>"
      ]
     },
     "metadata": {},
     "output_type": "display_data"
    },
    {
     "name": "stdout",
     "output_type": "stream",
     "text": [
      "0\n"
     ]
    },
    {
     "data": {
      "image/png": "[encoded data removed]",
      "text/plain": [
       "<Figure size 640x480 with 1 Axes>"
      ]
     },
     "metadata": {},
     "output_type": "display_data"
    },
    {
     "name": "stdout",
     "output_type": "stream",
     "text": [
      "0\n"
     ]
    },
    {
     "data": {
      "image/png": "[encoded data removed]",
      "text/plain": [
       "<Figure size 640x480 with 1 Axes>"
      ]
     },
     "metadata": {},
     "output_type": "display_data"
    },
    {
     "name": "stdout",
     "output_type": "stream",
     "text": [
      "1\n"
     ]
    },
    {
     "data": {
      "image/png": "[encoded data removed]",
      "text/plain": [
       "<Figure size 640x480 with 1 Axes>"
      ]
     },
     "metadata": {},
     "output_type": "display_data"
    },
    {
     "name": "stdout",
     "output_type": "stream",
     "text": [
      "0\n"
     ]
    },
    {
     "data": {
      "image/png": "[encoded data removed]",
      "text/plain": [
       "<Figure size 640x480 with 1 Axes>"
      ]
     },
     "metadata": {},
     "output_type": "display_data"
    },
    {
     "name": "stdout",
     "output_type": "stream",
     "text": [
      "2\n"
     ]
    },
    {
     "data": {
      "image/png": "[encoded data removed]",
      "text/plain": [
       "<Figure size 640x480 with 1 Axes>"
      ]
     },
     "metadata": {},
     "output_type": "display_data"
    },
    {
     "name": "stdout",
     "output_type": "stream",
     "text": [
      "0\n"
     ]
    },
    {
     "data": {
      "image/png": "[encoded data removed]",
      "text/plain": [
       "<Figure size 640x480 with 1 Axes>"
      ]
     },
     "metadata": {},
     "output_type": "display_data"
    },
    {
     "name": "stdout",
     "output_type": "stream",
     "text": [
      "3\n"
     ]
    },
    {
     "data": {
      "image/png": "[encoded data removed]",
      "text/plain": [
       "<Figure size 640x480 with 1 Axes>"
      ]
     },
     "metadata": {},
     "output_type": "display_data"
    },
    {
     "name": "stdout",
     "output_type": "stream",
     "text": [
      "0\n"
     ]
    },
    {
     "data": {
      "image/png": "[encoded data removed]",
      "text/plain": [
       "<Figure size 640x480 with 1 Axes>"
      ]
     },
     "metadata": {},
     "output_type": "display_data"
    },
    {
     "name": "stdout",
     "output_type": "stream",
     "text": [
      "4\n"
     ]
    },
    {
     "data": {
      "image/png": "[encoded data removed]",
      "text/plain": [
       "<Figure size 640x480 with 1 Axes>"
      ]
     },
     "metadata": {},
     "output_type": "display_data"
    },
    {
     "name": "stdout",
     "output_type": "stream",
     "text": [
      "0\n"
     ]
    },
    {
     "data": {
      "image/png": "[encoded data removed]",
      "text/plain": [
       "<Figure size 640x480 with 1 Axes>"
      ]
     },
     "metadata": {},
     "output_type": "display_data"
    },
    {
     "name": "stdout",
     "output_type": "stream",
     "text": [
      "5\n"
     ]
    },
    {
     "data": {
      "image/png": "[encoded data removed]",
      "text/plain": [
       "<Figure size 640x480 with 1 Axes>"
      ]
     },
     "metadata": {},
     "output_type": "display_data"
    }
   ],
   "source": [
    "import numpy as np\n",
    "from matplotlib.pyplot import MultipleLocator\n",
    "fig, ax = plt.subplots()\n",
    "x = np.arange(4) # x = [0,1,2,3]\n",
    "# 設定 y軸 間距 = 1\n",
    "y_major_locator = MultipleLocator(1)\n",
    "\n",
    "cmap = plt.colormaps['autumn']\n",
    "mcolors = cmap([i* 0.1 for i in range(12,0,-1)])\n",
    "\n",
    "row, col = 0, 0\n",
    "for i,j,k,l in zip( littledown.items(),down.values(),up.values(),bigup.values()):\n",
    "    # i = ('虎',1) type = tuple\n",
    "    temp = []\n",
    "    if col == 2 :\n",
    "        col = 0\n",
    "        row += 1\n",
    "    temp = [i[1],j,k,l]\n",
    "    # 修改 y軸 間距\n",
    "    ax.yaxis.set_major_locator(y_major_locator)\n",
    "    # 設定 title\n",
    "    plt.title(i[0])\n",
    "    # 設定 y軸 距離 0-2\n",
    "    plt.ylim(0,2)\n",
    "    print(row*col)\n",
    "    plt.bar(x, temp, tick_label=['小跌','大跌','小漲','大漲'], color=mcolors[row*col])\n",
    "    # 每個圖像完成show一次\n",
    "    plt.show()\n",
    "    col += 1\n",
    "    "
   ]
  },
  {
   "cell_type": "code",
   "execution_count": 123,
   "id": "fe0be03a",
   "metadata": {},
   "outputs": [
    {
     "name": "stdout",
     "output_type": "stream",
     "text": [
      "0\n"
     ]
    },
    {
     "data": {
      "image/png": "[encoded data removed]",
      "text/plain": [
       "<Figure size 640x480 with 1 Axes>"
      ]
     },
     "metadata": {},
     "output_type": "display_data"
    },
    {
     "name": "stdout",
     "output_type": "stream",
     "text": [
      "0\n"
     ]
    },
    {
     "data": {
      "image/png": "[encoded data removed]",
      "text/plain": [
       "<Figure size 640x480 with 1 Axes>"
      ]
     },
     "metadata": {},
     "output_type": "display_data"
    },
    {
     "name": "stdout",
     "output_type": "stream",
     "text": [
      "0\n"
     ]
    },
    {
     "data": {
      "image/png": "[encoded data removed]",
      "text/plain": [
       "<Figure size 640x480 with 1 Axes>"
      ]
     },
     "metadata": {},
     "output_type": "display_data"
    },
    {
     "name": "stdout",
     "output_type": "stream",
     "text": [
      "0\n"
     ]
    },
    {
     "data": {
      "image/png": "[encoded data removed]",
      "text/plain": [
       "<Figure size 640x480 with 1 Axes>"
      ]
     },
     "metadata": {},
     "output_type": "display_data"
    },
    {
     "name": "stdout",
     "output_type": "stream",
     "text": [
      "0\n"
     ]
    },
    {
     "data": {
      "image/png": "[encoded data removed]",
      "text/plain": [
       "<Figure size 640x480 with 1 Axes>"
      ]
     },
     "metadata": {},
     "output_type": "display_data"
    },
    {
     "name": "stdout",
     "output_type": "stream",
     "text": [
      "0\n"
     ]
    },
    {
     "data": {
      "image/png": "[encoded data removed]",
      "text/plain": [
       "<Figure size 640x480 with 1 Axes>"
      ]
     },
     "metadata": {},
     "output_type": "display_data"
    },
    {
     "name": "stdout",
     "output_type": "stream",
     "text": [
      "0\n"
     ]
    },
    {
     "data": {
      "image/png": "[encoded data removed]",
      "text/plain": [
       "<Figure size 640x480 with 1 Axes>"
      ]
     },
     "metadata": {},
     "output_type": "display_data"
    },
    {
     "name": "stdout",
     "output_type": "stream",
     "text": [
      "0\n"
     ]
    },
    {
     "data": {
      "image/png": "[encoded data removed]",
      "text/plain": [
       "<Figure size 640x480 with 1 Axes>"
      ]
     },
     "metadata": {},
     "output_type": "display_data"
    },
    {
     "name": "stdout",
     "output_type": "stream",
     "text": [
      "0\n"
     ]
    },
    {
     "data": {
      "image/png": "[encoded data removed]",
      "text/plain": [
       "<Figure size 640x480 with 1 Axes>"
      ]
     },
     "metadata": {},
     "output_type": "display_data"
    },
    {
     "name": "stdout",
     "output_type": "stream",
     "text": [
      "0\n"
     ]
    },
    {
     "data": {
      "image/png": "[encoded data removed]",
      "text/plain": [
       "<Figure size 640x480 with 1 Axes>"
      ]
     },
     "metadata": {},
     "output_type": "display_data"
    },
    {
     "name": "stdout",
     "output_type": "stream",
     "text": [
      "0\n"
     ]
    },
    {
     "data": {
      "image/png": "[encoded data removed]",
      "text/plain": [
       "<Figure size 640x480 with 1 Axes>"
      ]
     },
     "metadata": {},
     "output_type": "display_data"
    },
    {
     "name": "stdout",
     "output_type": "stream",
     "text": [
      "0\n"
     ]
    },
    {
     "data": {
      "image/png": "[encoded data removed]",
      "text/plain": [
       "<Figure size 640x480 with 1 Axes>"
      ]
     },
     "metadata": {},
     "output_type": "display_data"
    }
   ],
   "source": [
    "import numpy as np\n",
    "from matplotlib.pyplot import MultipleLocator\n",
    "fig, ax = plt.subplots()\n",
    "x = np.arange(4) # x = [0,1,2,3]\n",
    "# 設定 y軸 間距 = 1\n",
    "y_major_locator = MultipleLocator(1)\n",
    "# set colors\n",
    "cmap = plt.colormaps['autumn']\n",
    "mcolors = cmap([i* 0.1 for i in range(12,0,-1)])\n",
    "num = 0\n",
    "for i,j,k,l in zip( littledown.items(),down.values(),up.values(),bigup.values()):\n",
    "    # i = ('虎',1) type = tuple\n",
    "    temp = []\n",
    "    temp = [i[1],j,k,l]\n",
    "    # 修改 y軸 間距\n",
    "    ax.yaxis.set_major_locator(y_major_locator)\n",
    "    # 設定 title\n",
    "    plt.title(i[0])\n",
    "    # 設定 y軸 距離 0-2\n",
    "    plt.ylim(0,2)\n",
    "    print(row*col)\n",
    "    plt.bar(x, temp, tick_label=['小跌','大跌','小漲','大漲'], color=mcolors[num])\n",
    "    # 每個圖像完成show一次\n",
    "    plt.show()\n",
    "    num+=1\n",
    "    "
   ]
  },
  {
   "cell_type": "code",
   "execution_count": 4,
   "id": "5e006ff3",
   "metadata": {
    "scrolled": true
   },
   "outputs": [
    {
     "data": {
      "text/plain": [
       "<BarContainer object of 4 artists>"
      ]
     },
     "execution_count": 4,
     "metadata": {},
     "output_type": "execute_result"
    },
    {
     "data": {
      "image/png": "[encoded data removed]",
      "text/plain": [
       "<Figure size 640x480 with 1 Axes>"
      ]
     },
     "metadata": {},
     "output_type": "display_data"
    }
   ],
   "source": [
    "plt.bar(littledown.keys(),littledown.values())\n",
    "plt.bar(down.keys(),down.values())"
   ]
  },
  {
   "cell_type": "code",
   "execution_count": 21,
   "id": "379d5089",
   "metadata": {},
   "outputs": [
    {
     "name": "stdout",
     "output_type": "stream",
     "text": [
      "Bill Depth (18.35, 18.43, 14.98)\n",
      "Bill Length (38.79, 48.83, 47.5)\n",
      "Flipper Length (189.95, 195.82, 217.19)\n"
     ]
    },
    {
     "data": {
      "image/png": "[encoded data removed]",
      "text/plain": [
       "<Figure size 640x480 with 1 Axes>"
      ]
     },
     "metadata": {},
     "output_type": "display_data"
    }
   ],
   "source": [
    "# data from https://allisonhorst.github.io/palmerpenguins/\n",
    "\n",
    "import matplotlib.pyplot as plt\n",
    "import numpy as np\n",
    "\n",
    "species = (\"Adelie\", \"Chinstrap\", \"Gentoo\")\n",
    "penguin_means = {\n",
    "    'Bill Depth': (18.35, 18.43, 14.98),\n",
    "    'Bill Length': (38.79, 48.83, 47.50),\n",
    "    'Flipper Length': (189.95, 195.82, 217.19),\n",
    "}\n",
    "\n",
    "x = np.arange(len(species))  # the label locations\n",
    "width = 0.25  # the width of the bars\n",
    "multiplier = 0\n",
    "\n",
    "fig, ax = plt.subplots(layout='constrained')\n",
    "\n",
    "for attribute, measurement in penguin_means.items():\n",
    "    print(attribute,measurement)\n",
    "    offset = width * multiplier\n",
    "    rects = ax.bar(x + offset, measurement, width, label=attribute)\n",
    "    ax.bar_label(rects, padding=3)\n",
    "    multiplier += 1\n",
    "\n",
    "# Add some text for labels, title and custom x-axis tick labels, etc.\n",
    "ax.set_ylabel('Length (mm)')\n",
    "ax.set_title('Penguin attributes by species')\n",
    "ax.set_xticks(x + width, species)\n",
    "ax.legend(loc='upper left', ncols=3)\n",
    "ax.set_ylim(0, 250)\n",
    "\n",
    "plt.show()"
   ]
  },
  {
   "cell_type": "code",
   "execution_count": 33,
   "id": "9b7be72d",
   "metadata": {
    "scrolled": true
   },
   "outputs": [
    {
     "data": {
      "image/png": "[encoded data removed]",
      "text/plain": [
       "<Figure size 640x480 with 1 Axes>"
      ]
     },
     "metadata": {},
     "output_type": "display_data"
    }
   ],
   "source": [
    "fig, ax = plt.subplots(layout='constrained')\n",
    "width = 0.3\n",
    "animal_list = ['鼠','牛','虎','兔','龍','蛇','馬','羊','猴','雞','狗','豬']\n",
    "x = np.arange(len(animal_list))\n",
    "# offset = width * multiplier\n",
    "# print(x+offset)\n",
    "num = 0\n",
    "# for i in animal_list:\n",
    "plt.bar(x , list(littledown.values()), width, color='b')\n",
    "plt.bar(x + width, list(down.values()), width, color='r')\n",
    "plt.bar(x + width*2, list(up.values()), width, color='black')\n",
    "plt.bar(x + width*3,  list(bigup.values()), width, color='g')\n",
    "plt.xticks(x + width / 2, animal_list)\n",
    "\n",
    "# plt.bar(x + 1 , littledown['牛'], width, color='g')\n",
    "# plt.bar(x + width+1, down['牛'], width, color='g')\n",
    "# plt.bar(x + width*2+1, up['牛'], width, color='g')\n",
    "# plt.bar(x + width*3+1, bigup['牛'], width, color='g')\n",
    "\n",
    "# #     ax.bar(offset + x, bigup[val], width, color='g')\n",
    "# #     ax.bar_label(littledowns, padding=3)\n",
    "  \n",
    "# plt.bar(x, math_scores, width, color='green', label='Math')\n",
    "# plt.bar(x + width, history_scores, width, color='blue', label='History')\n",
    "\n",
    "# plt.ylabel('Math')\n",
    "# plt.title('Final Term')\n",
    "# plt.legend(bbox_to_anchor=(1,1), loc='upper left')\n",
    "# plt.show()   \n",
    "\n",
    "\n",
    "plt.show()"
   ]
  },
  {
   "cell_type": "code",
   "execution_count": 45,
   "id": "b42b1c37",
   "metadata": {},
   "outputs": [
    {
     "data": {
      "text/html": [
       "<div>\n",
       "<style scoped>\n",
       "    .dataframe tbody tr th:only-of-type {\n",
       "        vertical-align: middle;\n",
       "    }\n",
       "\n",
       "    .dataframe tbody tr th {\n",
       "        vertical-align: top;\n",
       "    }\n",
       "\n",
       "    .dataframe thead th {\n",
       "        text-align: right;\n",
       "    }\n",
       "</style>\n",
       "<table border=\"1\" class=\"dataframe\">\n",
       "  <thead>\n",
       "    <tr style=\"text-align: right;\">\n",
       "      <th></th>\n",
       "      <th>交易 年度</th>\n",
       "      <th>開盤</th>\n",
       "      <th>最高</th>\n",
       "      <th>最低</th>\n",
       "      <th>收盤</th>\n",
       "      <th>漲跌</th>\n",
       "      <th>漲跌 (%)</th>\n",
       "      <th>振幅 (%)</th>\n",
       "      <th>生肖</th>\n",
       "      <th>year</th>\n",
       "      <th>漲跌文字</th>\n",
       "      <th>生肖漲機率%</th>\n",
       "      <th>生肖跌機率%</th>\n",
       "      <th>小跌</th>\n",
       "      <th>大跌</th>\n",
       "      <th>小漲</th>\n",
       "      <th>大漲</th>\n",
       "    </tr>\n",
       "  </thead>\n",
       "  <tbody>\n",
       "    <tr>\n",
       "      <th>15</th>\n",
       "      <td>2008</td>\n",
       "      <td>8491.57</td>\n",
       "      <td>9309.95</td>\n",
       "      <td>3955.43</td>\n",
       "      <td>4591.22</td>\n",
       "      <td>-3915.06</td>\n",
       "      <td>-46.0</td>\n",
       "      <td>62.9</td>\n",
       "      <td>鼠</td>\n",
       "      <td>第二年</td>\n",
       "      <td>大跌</td>\n",
       "      <td>67</td>\n",
       "      <td>33</td>\n",
       "      <td>0</td>\n",
       "      <td>1</td>\n",
       "      <td>0</td>\n",
       "      <td>0</td>\n",
       "    </tr>\n",
       "  </tbody>\n",
       "</table>\n",
       "</div>"
      ],
      "text/plain": [
       "    交易 年度       開盤       最高       最低       收盤       漲跌  漲跌 (%)  振幅 (%) 生肖  \\\n",
       "15   2008  8491.57  9309.95  3955.43  4591.22 -3915.06   -46.0    62.9  鼠   \n",
       "\n",
       "   year 漲跌文字  生肖漲機率%  生肖跌機率%  小跌  大跌  小漲  大漲  \n",
       "15  第二年   大跌      67      33   0   1   0   0  "
      ]
     },
     "execution_count": 45,
     "metadata": {},
     "output_type": "execute_result"
    }
   ],
   "source": [
    "data[(data['生肖']=='鼠') & (data['漲跌文字']=='大跌')]"
   ]
  },
  {
   "cell_type": "code",
   "execution_count": 85,
   "id": "8f224ea0",
   "metadata": {},
   "outputs": [
    {
     "data": {
      "text/plain": [
       "<BarContainer object of 36 artists>"
      ]
     },
     "execution_count": 85,
     "metadata": {},
     "output_type": "execute_result"
    },
    {
     "data": {
      "image/png": "[encoded data removed]",
      "text/plain": [
       "<Figure size 640x480 with 4 Axes>"
      ]
     },
     "metadata": {},
     "output_type": "display_data"
    }
   ],
   "source": [
    "fig, ax = plt.subplots(nrows=2,ncols=2)\n",
    "ax[0][0].bar(data['生肖'],data['漲跌文字'])"
   ]
  },
  {
   "cell_type": "code",
   "execution_count": 169,
   "id": "1edcd0d6",
   "metadata": {
    "scrolled": true
   },
   "outputs": [
    {
     "data": {
      "text/plain": [
       "dict_keys"
      ]
     },
     "execution_count": 169,
     "metadata": {},
     "output_type": "execute_result"
    }
   ],
   "source": [
    "type(littledown.keys())"
   ]
  },
  {
   "cell_type": "code",
   "execution_count": 170,
   "id": "0c336ce9",
   "metadata": {},
   "outputs": [
    {
     "data": {
      "text/plain": [
       "dict_keys(['虎', '狗', '羊', '兔', '馬', '猴'])"
      ]
     },
     "execution_count": 170,
     "metadata": {},
     "output_type": "execute_result"
    }
   ],
   "source": [
    "littledown.keys()"
   ]
  },
  {
   "cell_type": "code",
   "execution_count": 171,
   "id": "a60c856e",
   "metadata": {},
   "outputs": [
    {
     "data": {
      "text/plain": [
       "\"dict_keys(['虎', '狗', '羊', '兔', '馬', '猴'])\""
      ]
     },
     "execution_count": 171,
     "metadata": {},
     "output_type": "execute_result"
    }
   ],
   "source": [
    "str(littledown.keys())"
   ]
  },
  {
   "cell_type": "markdown",
   "id": "d5c55231",
   "metadata": {},
   "source": [
    "https://matplotlib.org/stable/gallery/lines_bars_and_markers/barchart.html#sphx-glr-gallery-lines-bars-and-markers-barchart-py"
   ]
  },
  {
   "cell_type": "code",
   "execution_count": 135,
   "id": "bce9097b",
   "metadata": {},
   "outputs": [
    {
     "data": {
      "text/plain": [
       "<BarContainer object of 36 artists>"
      ]
     },
     "execution_count": 135,
     "metadata": {},
     "output_type": "execute_result"
    },
    {
     "data": {
      "image/png": "[encoded data removed]",
      "text/plain": [
       "<Figure size 640x480 with 1 Axes>"
      ]
     },
     "metadata": {},
     "output_type": "display_data"
    }
   ],
   "source": [
    "plt.bar(data['生肖'],data['漲跌文字'])"
   ]
  },
  {
   "cell_type": "code",
   "execution_count": 4,
   "id": "6301562a",
   "metadata": {
    "scrolled": true
   },
   "outputs": [
    {
     "data": {
      "text/plain": [
       "-27.345454545454547"
      ]
     },
     "execution_count": 4,
     "metadata": {},
     "output_type": "execute_result"
    }
   ],
   "source": [
    "# 跌的平均\n",
    "data.loc[data['漲跌 (%)'] < 0,'漲跌 (%)'].mean()"
   ]
  },
  {
   "cell_type": "code",
   "execution_count": 5,
   "id": "06193c08",
   "metadata": {},
   "outputs": [
    {
     "data": {
      "text/plain": [
       "32.416"
      ]
     },
     "execution_count": 5,
     "metadata": {},
     "output_type": "execute_result"
    }
   ],
   "source": [
    "# 漲的平均\n",
    "data.loc[data['漲跌 (%)'] > 0,'漲跌 (%)'].mean()"
   ]
  },
  {
   "cell_type": "code",
   "execution_count": 32,
   "id": "bb1f3a97",
   "metadata": {},
   "outputs": [
    {
     "data": {
      "text/plain": [
       "1"
      ]
     },
     "execution_count": 32,
     "metadata": {},
     "output_type": "execute_result"
    }
   ],
   "source": [
    "12//12"
   ]
  },
  {
   "cell_type": "code",
   "execution_count": 61,
   "id": "f073456a",
   "metadata": {},
   "outputs": [
    {
     "data": {
      "text/plain": [
       "Index(['交易 年度', '開盤', '最高', '最低', '收盤', '漲跌', '漲跌 (%)', '振幅 (%)'], dtype='object')"
      ]
     },
     "execution_count": 61,
     "metadata": {},
     "output_type": "execute_result"
    }
   ],
   "source": [
    "data.columns"
   ]
  },
  {
   "cell_type": "code",
   "execution_count": 4,
   "id": "2fa0cc16",
   "metadata": {
    "scrolled": true
   },
   "outputs": [
    {
     "data": {
      "text/plain": [
       "'交易 年度'"
      ]
     },
     "execution_count": 4,
     "metadata": {},
     "output_type": "execute_result"
    }
   ],
   "source": [
    "data.columns[0][1] "
   ]
  },
  {
   "cell_type": "code",
   "execution_count": 59,
   "id": "e4916f77",
   "metadata": {
    "scrolled": true
   },
   "outputs": [],
   "source": [
    "data.columns = data.columns.droplevel(1)# remove MultiIndex "
   ]
  },
  {
   "cell_type": "code",
   "execution_count": 6,
   "id": "a52240c3",
   "metadata": {
    "scrolled": false
   },
   "outputs": [
    {
     "data": {
      "text/plain": [
       "Index(['交易 年度', '交易 日數', '開盤', '最高', '最低', '收盤', '漲跌', '漲跌 (%)', '振幅 (%)',\n",
       "       '總成交 (億元)', '日成交 均量', '法人買賣超 (億元)', '法人買賣超 (億元)', '法人買賣超 (億元)',\n",
       "       '法人買賣超 (億元)', '融資 (億元)', '融資 (億元)', '融券 (萬張)', '融券 (萬張)'],\n",
       "      dtype='object')"
      ]
     },
     "execution_count": 6,
     "metadata": {},
     "output_type": "execute_result"
    }
   ],
   "source": [
    "data.columns"
   ]
  },
  {
   "cell_type": "code",
   "execution_count": 31,
   "id": "2925f92c",
   "metadata": {},
   "outputs": [
    {
     "data": {
      "text/plain": [
       "Index(['交易 年度', '開盤', '最高', '最低', '收盤', '漲跌', '漲跌 (%)', '振幅 (%)'], dtype='object')"
      ]
     },
     "execution_count": 31,
     "metadata": {},
     "output_type": "execute_result"
    }
   ],
   "source": [
    "data.columns"
   ]
  },
  {
   "cell_type": "code",
   "execution_count": 14,
   "id": "e46d8830",
   "metadata": {},
   "outputs": [
    {
     "data": {
      "text/plain": [
       "RangeIndex(start=0, stop=37, step=1)"
      ]
     },
     "execution_count": 14,
     "metadata": {},
     "output_type": "execute_result"
    }
   ],
   "source": [
    "data.index"
   ]
  },
  {
   "cell_type": "code",
   "execution_count": 26,
   "id": "184ccd31",
   "metadata": {},
   "outputs": [
    {
     "data": {
      "text/plain": [
       "'鼠'"
      ]
     },
     "execution_count": 26,
     "metadata": {},
     "output_type": "execute_result"
    }
   ],
   "source": [
    "animal = {4: '鼠', 5: '牛', 6: '虎', 7: '兔', 8: '龍', 9: '蛇', 10: '馬', 11: '羊', \n",
    "          0: '猴', 1: '雞', 2: '狗', 3: '豬'}\n",
    "animal[4]"
   ]
  },
  {
   "cell_type": "code",
   "execution_count": 99,
   "id": "09c55507",
   "metadata": {},
   "outputs": [
    {
     "name": "stdout",
     "output_type": "stream",
     "text": [
      "3.6\n",
      "40.03333333333333\n",
      "-11.473333333333334\n",
      "43.46666666666667\n",
      "27.99\n",
      "38.96666666666667\n",
      "-21.540000000000003\n",
      "7.819999999999999\n",
      "-3.7900000000000005\n",
      "33.82\n",
      "9.433333333333332\n",
      "1.5400000000000016\n"
     ]
    }
   ],
   "source": [
    "animal_list = ['鼠','牛','虎','兔','龍','蛇','馬','羊','猴','雞','狗','豬']\n",
    "for i in animal_list :   \n",
    "    print(data.loc[data['生肖'] == i ,'漲跌 (%)'].mean())"
   ]
  },
  {
   "cell_type": "markdown",
   "id": "ee8153b0",
   "metadata": {},
   "source": [
    "## 甚麼時候開始計算?計算到甚麼時候?"
   ]
  },
  {
   "cell_type": "code",
   "execution_count": 15,
   "id": "2bf1cb21",
   "metadata": {},
   "outputs": [],
   "source": [
    "# 1987 - 2022"
   ]
  },
  {
   "cell_type": "markdown",
   "id": "e538db6f",
   "metadata": {},
   "source": [
    "## 歷年兔年漲多少?"
   ]
  },
  {
   "cell_type": "code",
   "execution_count": 130,
   "id": "4141d644",
   "metadata": {
    "scrolled": true
   },
   "outputs": [
    {
     "data": {
      "text/html": [
       "<div>\n",
       "<style scoped>\n",
       "    .dataframe tbody tr th:only-of-type {\n",
       "        vertical-align: middle;\n",
       "    }\n",
       "\n",
       "    .dataframe tbody tr th {\n",
       "        vertical-align: top;\n",
       "    }\n",
       "\n",
       "    .dataframe thead th {\n",
       "        text-align: right;\n",
       "    }\n",
       "</style>\n",
       "<table border=\"1\" class=\"dataframe\">\n",
       "  <thead>\n",
       "    <tr style=\"text-align: right;\">\n",
       "      <th></th>\n",
       "      <th>交易 年度</th>\n",
       "      <th>生肖</th>\n",
       "      <th>漲跌 (%)</th>\n",
       "    </tr>\n",
       "  </thead>\n",
       "  <tbody>\n",
       "    <tr>\n",
       "      <th>12</th>\n",
       "      <td>2011</td>\n",
       "      <td>兔</td>\n",
       "      <td>-21.2</td>\n",
       "    </tr>\n",
       "    <tr>\n",
       "      <th>24</th>\n",
       "      <td>1999</td>\n",
       "      <td>兔</td>\n",
       "      <td>31.6</td>\n",
       "    </tr>\n",
       "    <tr>\n",
       "      <th>36</th>\n",
       "      <td>1987</td>\n",
       "      <td>兔</td>\n",
       "      <td>120.0</td>\n",
       "    </tr>\n",
       "  </tbody>\n",
       "</table>\n",
       "</div>"
      ],
      "text/plain": [
       "    交易 年度 生肖  漲跌 (%)\n",
       "12   2011  兔   -21.2\n",
       "24   1999  兔    31.6\n",
       "36   1987  兔   120.0"
      ]
     },
     "execution_count": 130,
     "metadata": {},
     "output_type": "execute_result"
    }
   ],
   "source": [
    "data[data['生肖']=='兔'][['交易 年度','生肖','漲跌 (%)']]"
   ]
  },
  {
   "cell_type": "markdown",
   "id": "ee1efadc",
   "metadata": {},
   "source": [
    "## 兔年平均漲多少?"
   ]
  },
  {
   "cell_type": "code",
   "execution_count": 133,
   "id": "838c51a7",
   "metadata": {
    "scrolled": true
   },
   "outputs": [
    {
     "data": {
      "text/plain": [
       "43"
      ]
     },
     "execution_count": 133,
     "metadata": {},
     "output_type": "execute_result"
    }
   ],
   "source": [
    "# 四捨五入\n",
    "round(data.loc[data['生肖']=='兔','漲跌 (%)'].mean())"
   ]
  },
  {
   "cell_type": "markdown",
   "id": "ea57a5d8",
   "metadata": {},
   "source": [
    "## 各生肖平均漲跌幅"
   ]
  },
  {
   "cell_type": "code",
   "execution_count": 136,
   "id": "20906467",
   "metadata": {},
   "outputs": [
    {
     "data": {
      "text/html": [
       "<div>\n",
       "<style scoped>\n",
       "    .dataframe tbody tr th:only-of-type {\n",
       "        vertical-align: middle;\n",
       "    }\n",
       "\n",
       "    .dataframe tbody tr th {\n",
       "        vertical-align: top;\n",
       "    }\n",
       "\n",
       "    .dataframe thead th {\n",
       "        text-align: right;\n",
       "    }\n",
       "</style>\n",
       "<table border=\"1\" class=\"dataframe\">\n",
       "  <thead>\n",
       "    <tr style=\"text-align: right;\">\n",
       "      <th></th>\n",
       "      <th>漲跌 (%)</th>\n",
       "    </tr>\n",
       "    <tr>\n",
       "      <th>生肖</th>\n",
       "      <th></th>\n",
       "    </tr>\n",
       "  </thead>\n",
       "  <tbody>\n",
       "    <tr>\n",
       "      <th>兔</th>\n",
       "      <td>43.466667</td>\n",
       "    </tr>\n",
       "    <tr>\n",
       "      <th>牛</th>\n",
       "      <td>40.033333</td>\n",
       "    </tr>\n",
       "    <tr>\n",
       "      <th>蛇</th>\n",
       "      <td>38.966667</td>\n",
       "    </tr>\n",
       "    <tr>\n",
       "      <th>雞</th>\n",
       "      <td>33.820000</td>\n",
       "    </tr>\n",
       "    <tr>\n",
       "      <th>龍</th>\n",
       "      <td>27.990000</td>\n",
       "    </tr>\n",
       "    <tr>\n",
       "      <th>狗</th>\n",
       "      <td>9.433333</td>\n",
       "    </tr>\n",
       "    <tr>\n",
       "      <th>羊</th>\n",
       "      <td>7.820000</td>\n",
       "    </tr>\n",
       "    <tr>\n",
       "      <th>鼠</th>\n",
       "      <td>3.600000</td>\n",
       "    </tr>\n",
       "    <tr>\n",
       "      <th>豬</th>\n",
       "      <td>1.540000</td>\n",
       "    </tr>\n",
       "    <tr>\n",
       "      <th>猴</th>\n",
       "      <td>-3.790000</td>\n",
       "    </tr>\n",
       "    <tr>\n",
       "      <th>虎</th>\n",
       "      <td>-11.473333</td>\n",
       "    </tr>\n",
       "    <tr>\n",
       "      <th>馬</th>\n",
       "      <td>-21.540000</td>\n",
       "    </tr>\n",
       "  </tbody>\n",
       "</table>\n",
       "</div>"
      ],
      "text/plain": [
       "       漲跌 (%)\n",
       "生肖           \n",
       "兔   43.466667\n",
       "牛   40.033333\n",
       "蛇   38.966667\n",
       "雞   33.820000\n",
       "龍   27.990000\n",
       "狗    9.433333\n",
       "羊    7.820000\n",
       "鼠    3.600000\n",
       "豬    1.540000\n",
       "猴   -3.790000\n",
       "虎  -11.473333\n",
       "馬  -21.540000"
      ]
     },
     "execution_count": 136,
     "metadata": {},
     "output_type": "execute_result"
    }
   ],
   "source": [
    "df = data.pivot_table(values='漲跌 (%)', index=['生肖'])\n",
    "# 排序大到小\n",
    "df1 = df.reindex(df['漲跌 (%)'].sort_values(ascending=False).index)\n",
    "df1"
   ]
  },
  {
   "cell_type": "code",
   "execution_count": 137,
   "id": "20d15a03",
   "metadata": {},
   "outputs": [
    {
     "data": {
      "text/html": [
       "<div>\n",
       "<style scoped>\n",
       "    .dataframe tbody tr th:only-of-type {\n",
       "        vertical-align: middle;\n",
       "    }\n",
       "\n",
       "    .dataframe tbody tr th {\n",
       "        vertical-align: top;\n",
       "    }\n",
       "\n",
       "    .dataframe thead th {\n",
       "        text-align: right;\n",
       "    }\n",
       "</style>\n",
       "<table border=\"1\" class=\"dataframe\">\n",
       "  <thead>\n",
       "    <tr style=\"text-align: right;\">\n",
       "      <th></th>\n",
       "      <th></th>\n",
       "      <th></th>\n",
       "      <th>漲跌 (%)</th>\n",
       "    </tr>\n",
       "    <tr>\n",
       "      <th>生肖</th>\n",
       "      <th>大漲</th>\n",
       "      <th>小漲</th>\n",
       "      <th></th>\n",
       "    </tr>\n",
       "  </thead>\n",
       "  <tbody>\n",
       "    <tr>\n",
       "      <th>龍</th>\n",
       "      <th>1</th>\n",
       "      <th>0</th>\n",
       "      <td>119.000</td>\n",
       "    </tr>\n",
       "    <tr>\n",
       "      <th>蛇</th>\n",
       "      <th>1</th>\n",
       "      <th>0</th>\n",
       "      <td>88.000</td>\n",
       "    </tr>\n",
       "    <tr>\n",
       "      <th>雞</th>\n",
       "      <th>1</th>\n",
       "      <th>0</th>\n",
       "      <td>79.800</td>\n",
       "    </tr>\n",
       "    <tr>\n",
       "      <th>牛</th>\n",
       "      <th>1</th>\n",
       "      <th>0</th>\n",
       "      <td>78.300</td>\n",
       "    </tr>\n",
       "    <tr>\n",
       "      <th>兔</th>\n",
       "      <th>1</th>\n",
       "      <th>0</th>\n",
       "      <td>75.800</td>\n",
       "    </tr>\n",
       "    <tr>\n",
       "      <th>鼠</th>\n",
       "      <th>1</th>\n",
       "      <th>0</th>\n",
       "      <td>34.000</td>\n",
       "    </tr>\n",
       "    <tr>\n",
       "      <th>羊</th>\n",
       "      <th>1</th>\n",
       "      <th>0</th>\n",
       "      <td>32.300</td>\n",
       "    </tr>\n",
       "    <tr>\n",
       "      <th>鼠</th>\n",
       "      <th>0</th>\n",
       "      <th>1</th>\n",
       "      <td>22.800</td>\n",
       "    </tr>\n",
       "    <tr>\n",
       "      <th>牛</th>\n",
       "      <th>0</th>\n",
       "      <th>1</th>\n",
       "      <td>20.900</td>\n",
       "    </tr>\n",
       "    <tr>\n",
       "      <th>狗</th>\n",
       "      <th>0</th>\n",
       "      <th>1</th>\n",
       "      <td>18.450</td>\n",
       "    </tr>\n",
       "    <tr>\n",
       "      <th>豬</th>\n",
       "      <th>0</th>\n",
       "      <th>1</th>\n",
       "      <td>16.010</td>\n",
       "    </tr>\n",
       "    <tr>\n",
       "      <th>蛇</th>\n",
       "      <th>0</th>\n",
       "      <th>1</th>\n",
       "      <td>14.450</td>\n",
       "    </tr>\n",
       "    <tr>\n",
       "      <th>雞</th>\n",
       "      <th>0</th>\n",
       "      <th>1</th>\n",
       "      <td>10.830</td>\n",
       "    </tr>\n",
       "    <tr>\n",
       "      <th>虎</th>\n",
       "      <th>0</th>\n",
       "      <th>1</th>\n",
       "      <td>9.580</td>\n",
       "    </tr>\n",
       "    <tr>\n",
       "      <th>龍</th>\n",
       "      <th>0</th>\n",
       "      <th>1</th>\n",
       "      <td>8.870</td>\n",
       "    </tr>\n",
       "    <tr>\n",
       "      <th>馬</th>\n",
       "      <th>0</th>\n",
       "      <th>1</th>\n",
       "      <td>8.080</td>\n",
       "    </tr>\n",
       "    <tr>\n",
       "      <th>猴</th>\n",
       "      <th>0</th>\n",
       "      <th>1</th>\n",
       "      <td>7.615</td>\n",
       "    </tr>\n",
       "    <tr>\n",
       "      <th>羊</th>\n",
       "      <th>0</th>\n",
       "      <th>1</th>\n",
       "      <td>1.560</td>\n",
       "    </tr>\n",
       "    <tr>\n",
       "      <th>狗</th>\n",
       "      <th>0</th>\n",
       "      <th>0</th>\n",
       "      <td>-8.600</td>\n",
       "    </tr>\n",
       "    <tr>\n",
       "      <th>羊</th>\n",
       "      <th>0</th>\n",
       "      <th>0</th>\n",
       "      <td>-10.400</td>\n",
       "    </tr>\n",
       "    <tr>\n",
       "      <th>兔</th>\n",
       "      <th>0</th>\n",
       "      <th>0</th>\n",
       "      <td>-21.200</td>\n",
       "    </tr>\n",
       "    <tr>\n",
       "      <th>虎</th>\n",
       "      <th>0</th>\n",
       "      <th>0</th>\n",
       "      <td>-22.000</td>\n",
       "    </tr>\n",
       "    <tr>\n",
       "      <th>猴</th>\n",
       "      <th>0</th>\n",
       "      <th>0</th>\n",
       "      <td>-26.600</td>\n",
       "    </tr>\n",
       "    <tr>\n",
       "      <th>豬</th>\n",
       "      <th>0</th>\n",
       "      <th>0</th>\n",
       "      <td>-27.400</td>\n",
       "    </tr>\n",
       "    <tr>\n",
       "      <th>馬</th>\n",
       "      <th>0</th>\n",
       "      <th>0</th>\n",
       "      <td>-36.350</td>\n",
       "    </tr>\n",
       "    <tr>\n",
       "      <th>龍</th>\n",
       "      <th>0</th>\n",
       "      <th>0</th>\n",
       "      <td>-43.900</td>\n",
       "    </tr>\n",
       "    <tr>\n",
       "      <th>鼠</th>\n",
       "      <th>0</th>\n",
       "      <th>0</th>\n",
       "      <td>-46.000</td>\n",
       "    </tr>\n",
       "  </tbody>\n",
       "</table>\n",
       "</div>"
      ],
      "text/plain": [
       "           漲跌 (%)\n",
       "生肖 大漲 小漲         \n",
       "龍  1  0   119.000\n",
       "蛇  1  0    88.000\n",
       "雞  1  0    79.800\n",
       "牛  1  0    78.300\n",
       "兔  1  0    75.800\n",
       "鼠  1  0    34.000\n",
       "羊  1  0    32.300\n",
       "鼠  0  1    22.800\n",
       "牛  0  1    20.900\n",
       "狗  0  1    18.450\n",
       "豬  0  1    16.010\n",
       "蛇  0  1    14.450\n",
       "雞  0  1    10.830\n",
       "虎  0  1     9.580\n",
       "龍  0  1     8.870\n",
       "馬  0  1     8.080\n",
       "猴  0  1     7.615\n",
       "羊  0  1     1.560\n",
       "狗  0  0    -8.600\n",
       "羊  0  0   -10.400\n",
       "兔  0  0   -21.200\n",
       "虎  0  0   -22.000\n",
       "猴  0  0   -26.600\n",
       "豬  0  0   -27.400\n",
       "馬  0  0   -36.350\n",
       "龍  0  0   -43.900\n",
       "鼠  0  0   -46.000"
      ]
     },
     "execution_count": 137,
     "metadata": {},
     "output_type": "execute_result"
    }
   ],
   "source": [
    "df = data.pivot_table(values='漲跌 (%)', index=['生肖','大漲','小漲'])\n",
    "# 排序大到小\n",
    "df1 = df.reindex(df['漲跌 (%)'].sort_values(ascending=False).index)\n",
    "df1"
   ]
  },
  {
   "cell_type": "code",
   "execution_count": 132,
   "id": "faa3b82c",
   "metadata": {
    "scrolled": true
   },
   "outputs": [
    {
     "data": {
      "text/html": [
       "<div>\n",
       "<style scoped>\n",
       "    .dataframe tbody tr th:only-of-type {\n",
       "        vertical-align: middle;\n",
       "    }\n",
       "\n",
       "    .dataframe tbody tr th {\n",
       "        vertical-align: top;\n",
       "    }\n",
       "\n",
       "    .dataframe thead th {\n",
       "        text-align: right;\n",
       "    }\n",
       "</style>\n",
       "<table border=\"1\" class=\"dataframe\">\n",
       "  <thead>\n",
       "    <tr style=\"text-align: right;\">\n",
       "      <th></th>\n",
       "      <th></th>\n",
       "      <th></th>\n",
       "      <th>漲跌 (%)</th>\n",
       "    </tr>\n",
       "    <tr>\n",
       "      <th>生肖</th>\n",
       "      <th>year</th>\n",
       "      <th>交易 年度</th>\n",
       "      <th></th>\n",
       "    </tr>\n",
       "  </thead>\n",
       "  <tbody>\n",
       "    <tr>\n",
       "      <th rowspan=\"3\" valign=\"top\">兔</th>\n",
       "      <th>第一年</th>\n",
       "      <th>1987</th>\n",
       "      <td>120.00</td>\n",
       "    </tr>\n",
       "    <tr>\n",
       "      <th>第三年</th>\n",
       "      <th>2011</th>\n",
       "      <td>-21.20</td>\n",
       "    </tr>\n",
       "    <tr>\n",
       "      <th>第二年</th>\n",
       "      <th>1999</th>\n",
       "      <td>31.60</td>\n",
       "    </tr>\n",
       "    <tr>\n",
       "      <th rowspan=\"3\" valign=\"top\">牛</th>\n",
       "      <th>第一年</th>\n",
       "      <th>1997</th>\n",
       "      <td>18.10</td>\n",
       "    </tr>\n",
       "    <tr>\n",
       "      <th>第三年</th>\n",
       "      <th>2021</th>\n",
       "      <td>23.70</td>\n",
       "    </tr>\n",
       "    <tr>\n",
       "      <th>第二年</th>\n",
       "      <th>2009</th>\n",
       "      <td>78.30</td>\n",
       "    </tr>\n",
       "    <tr>\n",
       "      <th rowspan=\"3\" valign=\"top\">狗</th>\n",
       "      <th>第一年</th>\n",
       "      <th>1994</th>\n",
       "      <td>17.40</td>\n",
       "    </tr>\n",
       "    <tr>\n",
       "      <th>第三年</th>\n",
       "      <th>2018</th>\n",
       "      <td>-8.60</td>\n",
       "    </tr>\n",
       "    <tr>\n",
       "      <th>第二年</th>\n",
       "      <th>2006</th>\n",
       "      <td>19.50</td>\n",
       "    </tr>\n",
       "    <tr>\n",
       "      <th rowspan=\"3\" valign=\"top\">猴</th>\n",
       "      <th>第一年</th>\n",
       "      <th>1992</th>\n",
       "      <td>-26.60</td>\n",
       "    </tr>\n",
       "    <tr>\n",
       "      <th>第三年</th>\n",
       "      <th>2016</th>\n",
       "      <td>11.00</td>\n",
       "    </tr>\n",
       "    <tr>\n",
       "      <th>第二年</th>\n",
       "      <th>2004</th>\n",
       "      <td>4.23</td>\n",
       "    </tr>\n",
       "    <tr>\n",
       "      <th rowspan=\"3\" valign=\"top\">羊</th>\n",
       "      <th>第一年</th>\n",
       "      <th>1991</th>\n",
       "      <td>1.56</td>\n",
       "    </tr>\n",
       "    <tr>\n",
       "      <th>第三年</th>\n",
       "      <th>2015</th>\n",
       "      <td>-10.40</td>\n",
       "    </tr>\n",
       "    <tr>\n",
       "      <th>第二年</th>\n",
       "      <th>2003</th>\n",
       "      <td>32.30</td>\n",
       "    </tr>\n",
       "    <tr>\n",
       "      <th rowspan=\"3\" valign=\"top\">虎</th>\n",
       "      <th>第一年</th>\n",
       "      <th>1998</th>\n",
       "      <td>-21.60</td>\n",
       "    </tr>\n",
       "    <tr>\n",
       "      <th>第三年</th>\n",
       "      <th>2022</th>\n",
       "      <td>-22.40</td>\n",
       "    </tr>\n",
       "    <tr>\n",
       "      <th>第二年</th>\n",
       "      <th>2010</th>\n",
       "      <td>9.58</td>\n",
       "    </tr>\n",
       "    <tr>\n",
       "      <th rowspan=\"3\" valign=\"top\">蛇</th>\n",
       "      <th>第一年</th>\n",
       "      <th>1989</th>\n",
       "      <td>88.00</td>\n",
       "    </tr>\n",
       "    <tr>\n",
       "      <th>第三年</th>\n",
       "      <th>2013</th>\n",
       "      <td>11.80</td>\n",
       "    </tr>\n",
       "    <tr>\n",
       "      <th>第二年</th>\n",
       "      <th>2001</th>\n",
       "      <td>17.10</td>\n",
       "    </tr>\n",
       "    <tr>\n",
       "      <th rowspan=\"3\" valign=\"top\">豬</th>\n",
       "      <th>第一年</th>\n",
       "      <th>1995</th>\n",
       "      <td>-27.40</td>\n",
       "    </tr>\n",
       "    <tr>\n",
       "      <th>第三年</th>\n",
       "      <th>2019</th>\n",
       "      <td>23.30</td>\n",
       "    </tr>\n",
       "    <tr>\n",
       "      <th>第二年</th>\n",
       "      <th>2007</th>\n",
       "      <td>8.72</td>\n",
       "    </tr>\n",
       "    <tr>\n",
       "      <th rowspan=\"3\" valign=\"top\">雞</th>\n",
       "      <th>第一年</th>\n",
       "      <th>1993</th>\n",
       "      <td>79.80</td>\n",
       "    </tr>\n",
       "    <tr>\n",
       "      <th>第三年</th>\n",
       "      <th>2017</th>\n",
       "      <td>15.00</td>\n",
       "    </tr>\n",
       "    <tr>\n",
       "      <th>第二年</th>\n",
       "      <th>2005</th>\n",
       "      <td>6.66</td>\n",
       "    </tr>\n",
       "    <tr>\n",
       "      <th rowspan=\"3\" valign=\"top\">馬</th>\n",
       "      <th>第一年</th>\n",
       "      <th>1990</th>\n",
       "      <td>-52.90</td>\n",
       "    </tr>\n",
       "    <tr>\n",
       "      <th>第三年</th>\n",
       "      <th>2014</th>\n",
       "      <td>8.08</td>\n",
       "    </tr>\n",
       "    <tr>\n",
       "      <th>第二年</th>\n",
       "      <th>2002</th>\n",
       "      <td>-19.80</td>\n",
       "    </tr>\n",
       "    <tr>\n",
       "      <th rowspan=\"3\" valign=\"top\">鼠</th>\n",
       "      <th>第一年</th>\n",
       "      <th>1996</th>\n",
       "      <td>34.00</td>\n",
       "    </tr>\n",
       "    <tr>\n",
       "      <th>第三年</th>\n",
       "      <th>2020</th>\n",
       "      <td>22.80</td>\n",
       "    </tr>\n",
       "    <tr>\n",
       "      <th>第二年</th>\n",
       "      <th>2008</th>\n",
       "      <td>-46.00</td>\n",
       "    </tr>\n",
       "    <tr>\n",
       "      <th rowspan=\"3\" valign=\"top\">龍</th>\n",
       "      <th>第一年</th>\n",
       "      <th>1988</th>\n",
       "      <td>119.00</td>\n",
       "    </tr>\n",
       "    <tr>\n",
       "      <th>第三年</th>\n",
       "      <th>2012</th>\n",
       "      <td>8.87</td>\n",
       "    </tr>\n",
       "    <tr>\n",
       "      <th>第二年</th>\n",
       "      <th>2000</th>\n",
       "      <td>-43.90</td>\n",
       "    </tr>\n",
       "  </tbody>\n",
       "</table>\n",
       "</div>"
      ],
      "text/plain": [
       "               漲跌 (%)\n",
       "生肖 year 交易 年度        \n",
       "兔  第一年  1987   120.00\n",
       "   第三年  2011   -21.20\n",
       "   第二年  1999    31.60\n",
       "牛  第一年  1997    18.10\n",
       "   第三年  2021    23.70\n",
       "   第二年  2009    78.30\n",
       "狗  第一年  1994    17.40\n",
       "   第三年  2018    -8.60\n",
       "   第二年  2006    19.50\n",
       "猴  第一年  1992   -26.60\n",
       "   第三年  2016    11.00\n",
       "   第二年  2004     4.23\n",
       "羊  第一年  1991     1.56\n",
       "   第三年  2015   -10.40\n",
       "   第二年  2003    32.30\n",
       "虎  第一年  1998   -21.60\n",
       "   第三年  2022   -22.40\n",
       "   第二年  2010     9.58\n",
       "蛇  第一年  1989    88.00\n",
       "   第三年  2013    11.80\n",
       "   第二年  2001    17.10\n",
       "豬  第一年  1995   -27.40\n",
       "   第三年  2019    23.30\n",
       "   第二年  2007     8.72\n",
       "雞  第一年  1993    79.80\n",
       "   第三年  2017    15.00\n",
       "   第二年  2005     6.66\n",
       "馬  第一年  1990   -52.90\n",
       "   第三年  2014     8.08\n",
       "   第二年  2002   -19.80\n",
       "鼠  第一年  1996    34.00\n",
       "   第三年  2020    22.80\n",
       "   第二年  2008   -46.00\n",
       "龍  第一年  1988   119.00\n",
       "   第三年  2012     8.87\n",
       "   第二年  2000   -43.90"
      ]
     },
     "execution_count": 132,
     "metadata": {},
     "output_type": "execute_result"
    }
   ],
   "source": [
    "data.pivot_table(values='漲跌 (%)', index=['生肖','year','交易 年度'])"
   ]
  },
  {
   "cell_type": "code",
   "execution_count": null,
   "id": "20b1d57f",
   "metadata": {},
   "outputs": [],
   "source": []
  },
  {
   "cell_type": "markdown",
   "id": "e075dae8",
   "metadata": {},
   "source": [
    "## 兔年漲的機率多少?"
   ]
  },
  {
   "cell_type": "code",
   "execution_count": 114,
   "id": "647010b5",
   "metadata": {},
   "outputs": [
    {
     "data": {
      "text/plain": [
       "67"
      ]
     },
     "execution_count": 114,
     "metadata": {},
     "output_type": "execute_result"
    }
   ],
   "source": [
    "round(data[(data['生肖']=='兔') & (data['漲跌 (%)'] > 0)].shape[0] / 3 * 100)"
   ]
  },
  {
   "cell_type": "markdown",
   "id": "1f566bb2",
   "metadata": {},
   "source": [
    "## 各個生肖漲的機率?"
   ]
  },
  {
   "cell_type": "code",
   "execution_count": 85,
   "id": "ecc4bc62",
   "metadata": {
    "scrolled": true
   },
   "outputs": [
    {
     "data": {
      "text/html": [
       "<div>\n",
       "<style scoped>\n",
       "    .dataframe tbody tr th:only-of-type {\n",
       "        vertical-align: middle;\n",
       "    }\n",
       "\n",
       "    .dataframe tbody tr th {\n",
       "        vertical-align: top;\n",
       "    }\n",
       "\n",
       "    .dataframe thead th {\n",
       "        text-align: right;\n",
       "    }\n",
       "</style>\n",
       "<table border=\"1\" class=\"dataframe\">\n",
       "  <thead>\n",
       "    <tr style=\"text-align: right;\">\n",
       "      <th></th>\n",
       "      <th>生肖漲機率%</th>\n",
       "    </tr>\n",
       "    <tr>\n",
       "      <th>生肖</th>\n",
       "      <th></th>\n",
       "    </tr>\n",
       "  </thead>\n",
       "  <tbody>\n",
       "    <tr>\n",
       "      <th>兔</th>\n",
       "      <td>67</td>\n",
       "    </tr>\n",
       "    <tr>\n",
       "      <th>牛</th>\n",
       "      <td>100</td>\n",
       "    </tr>\n",
       "    <tr>\n",
       "      <th>狗</th>\n",
       "      <td>67</td>\n",
       "    </tr>\n",
       "    <tr>\n",
       "      <th>猴</th>\n",
       "      <td>67</td>\n",
       "    </tr>\n",
       "    <tr>\n",
       "      <th>羊</th>\n",
       "      <td>67</td>\n",
       "    </tr>\n",
       "    <tr>\n",
       "      <th>虎</th>\n",
       "      <td>33</td>\n",
       "    </tr>\n",
       "    <tr>\n",
       "      <th>蛇</th>\n",
       "      <td>100</td>\n",
       "    </tr>\n",
       "    <tr>\n",
       "      <th>豬</th>\n",
       "      <td>67</td>\n",
       "    </tr>\n",
       "    <tr>\n",
       "      <th>雞</th>\n",
       "      <td>100</td>\n",
       "    </tr>\n",
       "    <tr>\n",
       "      <th>馬</th>\n",
       "      <td>33</td>\n",
       "    </tr>\n",
       "    <tr>\n",
       "      <th>鼠</th>\n",
       "      <td>67</td>\n",
       "    </tr>\n",
       "    <tr>\n",
       "      <th>龍</th>\n",
       "      <td>67</td>\n",
       "    </tr>\n",
       "  </tbody>\n",
       "</table>\n",
       "</div>"
      ],
      "text/plain": [
       "    生肖漲機率%\n",
       "生肖        \n",
       "兔       67\n",
       "牛      100\n",
       "狗       67\n",
       "猴       67\n",
       "羊       67\n",
       "虎       33\n",
       "蛇      100\n",
       "豬       67\n",
       "雞      100\n",
       "馬       33\n",
       "鼠       67\n",
       "龍       67"
      ]
     },
     "execution_count": 85,
     "metadata": {},
     "output_type": "execute_result"
    }
   ],
   "source": [
    "data.pivot_table(values='生肖漲機率%', index='生肖')"
   ]
  },
  {
   "cell_type": "code",
   "execution_count": 141,
   "id": "c89381e9",
   "metadata": {},
   "outputs": [
    {
     "data": {
      "image/png": "[encoded data removed]",
      "text/plain": [
       "<Figure size 640x480 with 1 Axes>"
      ]
     },
     "metadata": {},
     "output_type": "display_data"
    }
   ],
   "source": [
    "import numpy as np\n",
    "import matplotlib as mpl\n",
    "# 恢復預設引數\n",
    "# mpl.rcdefaults()\n",
    "animal_list = ['鼠','牛','虎','兔','龍','蛇','馬','羊','猴','雞','狗','豬']\n",
    "# default setting\n",
    "mpl.rcParams['font.family'] = 'Microsoft YaHei'\n",
    "mpl.rcParams['font.size'] = 8\n",
    "mpl.rcParams['text.color'] = 'black'\n",
    "mpl.rcParams['xtick.color'] = 'g'\n",
    "mpl.rcParams['xtick.labelcolor'] = 'black'\n",
    "mpl.rcParams['ytick.color'] = 'g'\n",
    "mpl.rcParams['ytick.labelcolor'] = 'black'\n",
    "mpl.rcParams['axes.labelcolor'] = 'b'\n",
    "# set title \n",
    "plt.title('生肖&漲的機率', color='black')\n",
    "# set colors\n",
    "cmap = plt.colormaps['autumn']\n",
    "mcolors = cmap([i* 0.1 for i in range(12,0,-1)])\n",
    "# set text ex:設置漲跌機率在生肖上\n",
    "for i in range(1,13):\n",
    "    text = data.loc[i,'生肖漲機率%']\n",
    "    plt.text(i-1, data.loc[i,'生肖漲機率%'] + 1, f'{text}%', fontsize=10, ha='center')\n",
    "# draw    \n",
    "plt.bar(data['生肖'], data['生肖漲機率%'],color=mcolors ,width=0.8, align='center')\n",
    "plt.show()"
   ]
  },
  {
   "cell_type": "markdown",
   "id": "c71c736b",
   "metadata": {},
   "source": [
    "## 各生肖年誰跌最多?跌多少?跌的機率?(堆疊長條圖)"
   ]
  },
  {
   "cell_type": "markdown",
   "id": "7c23b0ba",
   "metadata": {},
   "source": [
    "## 哪個生肖最容易谷底反彈(震幅大 且最後為正)"
   ]
  },
  {
   "cell_type": "markdown",
   "id": "e374d3d5",
   "metadata": {},
   "source": [
    "## 使用mysql?"
   ]
  },
  {
   "cell_type": "markdown",
   "id": "c5ca6630",
   "metadata": {},
   "source": [
    "## 漲幅平均"
   ]
  },
  {
   "cell_type": "code",
   "execution_count": 76,
   "id": "2659e5c1",
   "metadata": {},
   "outputs": [
    {
     "data": {
      "text/plain": [
       "14.155555555555557"
      ]
     },
     "execution_count": 76,
     "metadata": {},
     "output_type": "execute_result"
    }
   ],
   "source": [
    "data['漲跌 (%)'].mean()"
   ]
  },
  {
   "cell_type": "code",
   "execution_count": 78,
   "id": "8789cc51",
   "metadata": {},
   "outputs": [
    {
     "data": {
      "text/plain": [
       "0.25   -12.75\n",
       "0.50    10.29\n",
       "0.75    23.40\n",
       "Name: 漲跌 (%), dtype: float64"
      ]
     },
     "execution_count": 78,
     "metadata": {},
     "output_type": "execute_result"
    }
   ],
   "source": [
    "data['漲跌 (%)'].quantile([0.25,0.5,0.75])"
   ]
  },
  {
   "cell_type": "code",
   "execution_count": 86,
   "id": "f829ab41",
   "metadata": {},
   "outputs": [],
   "source": [
    "# 用平均來判斷大漲小漲、大跌小跌? or "
   ]
  },
  {
   "cell_type": "code",
   "execution_count": 88,
   "id": "627d9dc4",
   "metadata": {
    "scrolled": true
   },
   "outputs": [
    {
     "data": {
      "text/plain": [
       "14.155555555555557"
      ]
     },
     "execution_count": 88,
     "metadata": {},
     "output_type": "execute_result"
    }
   ],
   "source": [
    "data[,'漲跌 (%)'].mean()"
   ]
  },
  {
   "cell_type": "code",
   "execution_count": 131,
   "id": "0d930e7f",
   "metadata": {},
   "outputs": [
    {
     "data": {
      "text/plain": [
       "小漲    2\n",
       "大漲    1\n",
       "Name: 漲跌文字, dtype: int64"
      ]
     },
     "execution_count": 131,
     "metadata": {},
     "output_type": "execute_result"
    }
   ],
   "source": [
    "data.loc[data['生肖'] =='牛','漲跌文字'].value_counts()"
   ]
  },
  {
   "cell_type": "markdown",
   "id": "4387b460",
   "metadata": {},
   "source": [
    "## 各生肖年誰大漲最多?"
   ]
  },
  {
   "cell_type": "code",
   "execution_count": 110,
   "id": "6166c5cb",
   "metadata": {
    "scrolled": false
   },
   "outputs": [
    {
     "data": {
      "image/png": "[encoded data removed]",
      "text/plain": [
       "<Figure size 640x480 with 1 Axes>"
      ]
     },
     "metadata": {},
     "output_type": "display_data"
    },
    {
     "data": {
      "image/png": "[encoded data removed]",
      "text/plain": [
       "<Figure size 640x480 with 1 Axes>"
      ]
     },
     "metadata": {},
     "output_type": "display_data"
    },
    {
     "data": {
      "image/png": "[encoded data removed]",
      "text/plain": [
       "<Figure size 640x480 with 1 Axes>"
      ]
     },
     "metadata": {},
     "output_type": "display_data"
    },
    {
     "data": {
      "image/png": "[encoded data removed]",
      "text/plain": [
       "<Figure size 640x480 with 1 Axes>"
      ]
     },
     "metadata": {},
     "output_type": "display_data"
    },
    {
     "data": {
      "image/png": "[encoded data removed]",
      "text/plain": [
       "<Figure size 640x480 with 1 Axes>"
      ]
     },
     "metadata": {},
     "output_type": "display_data"
    },
    {
     "data": {
      "image/png": "[encoded data removed]",
      "text/plain": [
       "<Figure size 640x480 with 1 Axes>"
      ]
     },
     "metadata": {},
     "output_type": "display_data"
    },
    {
     "data": {
      "image/png": "[encoded data removed]",
      "text/plain": [
       "<Figure size 640x480 with 1 Axes>"
      ]
     },
     "metadata": {},
     "output_type": "display_data"
    },
    {
     "data": {
      "image/png": "[encoded data removed]",
      "text/plain": [
       "<Figure size 640x480 with 1 Axes>"
      ]
     },
     "metadata": {},
     "output_type": "display_data"
    },
    {
     "data": {
      "image/png": "[encoded data removed]",
      "text/plain": [
       "<Figure size 640x480 with 1 Axes>"
      ]
     },
     "metadata": {},
     "output_type": "display_data"
    },
    {
     "data": {
      "image/png": "[encoded data removed]",
      "text/plain": [
       "<Figure size 640x480 with 1 Axes>"
      ]
     },
     "metadata": {},
     "output_type": "display_data"
    },
    {
     "data": {
      "image/png": "[encoded data removed]",
      "text/plain": [
       "<Figure size 640x480 with 1 Axes>"
      ]
     },
     "metadata": {},
     "output_type": "display_data"
    },
    {
     "data": {
      "image/png": "[encoded data removed]",
      "text/plain": [
       "<Figure size 640x480 with 1 Axes>"
      ]
     },
     "metadata": {},
     "output_type": "display_data"
    }
   ],
   "source": [
    "import numpy as np\n",
    "# fig, ax = plt.subplots()\n",
    "x = np.arange(4)\n",
    "\n",
    "\n",
    "\n",
    "row, col = 0, 0\n",
    "for i,j,k,l in zip( littledown.items(),down.values(),up.values(),bigup.values()):\n",
    "    temp = []\n",
    "    if col == 2 :\n",
    "        col = 0\n",
    "        row += 1\n",
    "    temp = [i[1],j,k,l]\n",
    "    ax.t.title(i[0])\n",
    "    plt.ylim(0,2)\n",
    "    plt.bar(x,temp,tick_label=['小跌','大跌','小漲','大漲'])\n",
    "    plt.show()\n",
    "    col += 1"
   ]
  },
  {
   "cell_type": "code",
   "execution_count": 126,
   "id": "4c201053",
   "metadata": {},
   "outputs": [
    {
     "data": {
      "text/plain": [
       "{'牛': 1, '羊': 1, '兔': 2, '鼠': 1, '雞': 1, '蛇': 1, '龍': 1}"
      ]
     },
     "execution_count": 126,
     "metadata": {},
     "output_type": "execute_result"
    }
   ],
   "source": [
    "dict_bigup = {}\n",
    "for i in range(1,data.shape[0]):\n",
    "    if data.loc[i,'漲跌文字'] == '大漲':\n",
    "        dict_bigup[data.loc[i,'生肖']] = dict_bigup.get(data.loc[i,'生肖'],0) + 1\n",
    "dict_bigup      "
   ]
  },
  {
   "cell_type": "code",
   "execution_count": 108,
   "id": "ec557e0f",
   "metadata": {},
   "outputs": [
    {
     "data": {
      "text/html": [
       "<div>\n",
       "<style scoped>\n",
       "    .dataframe tbody tr th:only-of-type {\n",
       "        vertical-align: middle;\n",
       "    }\n",
       "\n",
       "    .dataframe tbody tr th {\n",
       "        vertical-align: top;\n",
       "    }\n",
       "\n",
       "    .dataframe thead th {\n",
       "        text-align: right;\n",
       "    }\n",
       "</style>\n",
       "<table border=\"1\" class=\"dataframe\">\n",
       "  <thead>\n",
       "    <tr style=\"text-align: right;\">\n",
       "      <th></th>\n",
       "      <th>漲跌文字</th>\n",
       "    </tr>\n",
       "    <tr>\n",
       "      <th>生肖</th>\n",
       "      <th></th>\n",
       "    </tr>\n",
       "  </thead>\n",
       "  <tbody>\n",
       "    <tr>\n",
       "      <th>兔</th>\n",
       "      <td>2</td>\n",
       "    </tr>\n",
       "    <tr>\n",
       "      <th>牛</th>\n",
       "      <td>2</td>\n",
       "    </tr>\n",
       "    <tr>\n",
       "      <th>狗</th>\n",
       "      <td>2</td>\n",
       "    </tr>\n",
       "    <tr>\n",
       "      <th>猴</th>\n",
       "      <td>2</td>\n",
       "    </tr>\n",
       "    <tr>\n",
       "      <th>羊</th>\n",
       "      <td>3</td>\n",
       "    </tr>\n",
       "    <tr>\n",
       "      <th>虎</th>\n",
       "      <td>2</td>\n",
       "    </tr>\n",
       "    <tr>\n",
       "      <th>蛇</th>\n",
       "      <td>2</td>\n",
       "    </tr>\n",
       "    <tr>\n",
       "      <th>豬</th>\n",
       "      <td>2</td>\n",
       "    </tr>\n",
       "    <tr>\n",
       "      <th>雞</th>\n",
       "      <td>2</td>\n",
       "    </tr>\n",
       "    <tr>\n",
       "      <th>馬</th>\n",
       "      <td>3</td>\n",
       "    </tr>\n",
       "    <tr>\n",
       "      <th>鼠</th>\n",
       "      <td>3</td>\n",
       "    </tr>\n",
       "    <tr>\n",
       "      <th>龍</th>\n",
       "      <td>3</td>\n",
       "    </tr>\n",
       "  </tbody>\n",
       "</table>\n",
       "</div>"
      ],
      "text/plain": [
       "    漲跌文字\n",
       "生肖      \n",
       "兔      2\n",
       "牛      2\n",
       "狗      2\n",
       "猴      2\n",
       "羊      3\n",
       "虎      2\n",
       "蛇      2\n",
       "豬      2\n",
       "雞      2\n",
       "馬      3\n",
       "鼠      3\n",
       "龍      3"
      ]
     },
     "execution_count": 108,
     "metadata": {},
     "output_type": "execute_result"
    }
   ],
   "source": [
    "data.pivot_table(values='漲跌文字',index='生肖',aggfunc= pd.Series.nunique)"
   ]
  },
  {
   "cell_type": "code",
   "execution_count": 137,
   "id": "48edc7df",
   "metadata": {},
   "outputs": [
    {
     "name": "stdout",
     "output_type": "stream",
     "text": [
      "鼠\n",
      "[1]\n",
      "小漲    1\n",
      "大跌    1\n",
      "大漲    1\n",
      "Name: 漲跌文字, dtype: int64\n",
      "3.6\n",
      "===============================\n",
      "牛\n",
      "[2]\n",
      "小漲    2\n",
      "大漲    1\n",
      "Name: 漲跌文字, dtype: int64\n",
      "40.03333333333333\n",
      "===============================\n",
      "虎\n",
      "[2]\n",
      "小跌    2\n",
      "小漲    1\n",
      "Name: 漲跌文字, dtype: int64\n",
      "-11.473333333333334\n",
      "===============================\n",
      "兔\n",
      "[2]\n",
      "大漲    2\n",
      "小跌    1\n",
      "Name: 漲跌文字, dtype: int64\n",
      "43.46666666666667\n",
      "===============================\n",
      "龍\n",
      "[1]\n",
      "小漲    1\n",
      "大跌    1\n",
      "大漲    1\n",
      "Name: 漲跌文字, dtype: int64\n",
      "27.99\n",
      "===============================\n",
      "蛇\n",
      "[2]\n",
      "小漲    2\n",
      "大漲    1\n",
      "Name: 漲跌文字, dtype: int64\n",
      "38.96666666666667\n",
      "===============================\n",
      "馬\n",
      "[1]\n",
      "小漲    1\n",
      "小跌    1\n",
      "大跌    1\n",
      "Name: 漲跌文字, dtype: int64\n",
      "-21.540000000000003\n",
      "===============================\n",
      "羊\n",
      "[1]\n",
      "小跌    1\n",
      "大漲    1\n",
      "小漲    1\n",
      "Name: 漲跌文字, dtype: int64\n",
      "7.819999999999999\n",
      "===============================\n",
      "猴\n",
      "[2]\n",
      "小漲    2\n",
      "小跌    1\n",
      "Name: 漲跌文字, dtype: int64\n",
      "-3.7900000000000005\n",
      "===============================\n",
      "雞\n",
      "[2]\n",
      "小漲    2\n",
      "大漲    1\n",
      "Name: 漲跌文字, dtype: int64\n",
      "33.82\n",
      "===============================\n",
      "狗\n",
      "[2]\n",
      "小漲    2\n",
      "小跌    1\n",
      "Name: 漲跌文字, dtype: int64\n",
      "9.433333333333332\n",
      "===============================\n",
      "豬\n",
      "[2]\n",
      "小漲    2\n",
      "大跌    1\n",
      "Name: 漲跌文字, dtype: int64\n",
      "1.5400000000000016\n",
      "===============================\n"
     ]
    }
   ],
   "source": [
    "# 總共大跌、小跌、大漲、小漲次數\n",
    "animal_list = ['鼠','牛','虎','兔','龍','蛇','馬','羊','猴','雞','狗','豬']\n",
    "for i in animal_list :\n",
    "    print(i)\n",
    "    temp = []\n",
    "    temp = [data.loc[data['生肖'] == i,'漲跌文字'].value_counts()[0]]\n",
    "    print(temp)\n",
    "    print(data.loc[data['生肖'] == i,'漲跌文字'].value_counts())\n",
    "    print(data.loc[data['生肖'] == i,'漲跌 (%)'].mean())\n",
    "    print('===============================')"
   ]
  },
  {
   "cell_type": "markdown",
   "id": "20bd69da",
   "metadata": {},
   "source": [
    "## 各生肖年誰大漲最多?漲多少?漲的機率?"
   ]
  },
  {
   "cell_type": "code",
   "execution_count": 27,
   "id": "665f4188",
   "metadata": {},
   "outputs": [
    {
     "data": {
      "text/html": [
       "<div>\n",
       "<style scoped>\n",
       "    .dataframe tbody tr th:only-of-type {\n",
       "        vertical-align: middle;\n",
       "    }\n",
       "\n",
       "    .dataframe tbody tr th {\n",
       "        vertical-align: top;\n",
       "    }\n",
       "\n",
       "    .dataframe thead th {\n",
       "        text-align: right;\n",
       "    }\n",
       "</style>\n",
       "<table border=\"1\" class=\"dataframe\">\n",
       "  <thead>\n",
       "    <tr style=\"text-align: right;\">\n",
       "      <th></th>\n",
       "      <th></th>\n",
       "      <th>漲跌 (%)</th>\n",
       "    </tr>\n",
       "    <tr>\n",
       "      <th>生肖</th>\n",
       "      <th>year</th>\n",
       "      <th></th>\n",
       "    </tr>\n",
       "  </thead>\n",
       "  <tbody>\n",
       "    <tr>\n",
       "      <th rowspan=\"3\" valign=\"top\">兔</th>\n",
       "      <th>第一年</th>\n",
       "      <td>120.00</td>\n",
       "    </tr>\n",
       "    <tr>\n",
       "      <th>第三年</th>\n",
       "      <td>-21.20</td>\n",
       "    </tr>\n",
       "    <tr>\n",
       "      <th>第二年</th>\n",
       "      <td>31.60</td>\n",
       "    </tr>\n",
       "    <tr>\n",
       "      <th rowspan=\"3\" valign=\"top\">牛</th>\n",
       "      <th>第一年</th>\n",
       "      <td>18.10</td>\n",
       "    </tr>\n",
       "    <tr>\n",
       "      <th>第三年</th>\n",
       "      <td>23.70</td>\n",
       "    </tr>\n",
       "    <tr>\n",
       "      <th>第二年</th>\n",
       "      <td>78.30</td>\n",
       "    </tr>\n",
       "    <tr>\n",
       "      <th rowspan=\"3\" valign=\"top\">狗</th>\n",
       "      <th>第一年</th>\n",
       "      <td>17.40</td>\n",
       "    </tr>\n",
       "    <tr>\n",
       "      <th>第三年</th>\n",
       "      <td>-8.60</td>\n",
       "    </tr>\n",
       "    <tr>\n",
       "      <th>第二年</th>\n",
       "      <td>19.50</td>\n",
       "    </tr>\n",
       "    <tr>\n",
       "      <th rowspan=\"3\" valign=\"top\">猴</th>\n",
       "      <th>第一年</th>\n",
       "      <td>-26.60</td>\n",
       "    </tr>\n",
       "    <tr>\n",
       "      <th>第三年</th>\n",
       "      <td>11.00</td>\n",
       "    </tr>\n",
       "    <tr>\n",
       "      <th>第二年</th>\n",
       "      <td>4.23</td>\n",
       "    </tr>\n",
       "    <tr>\n",
       "      <th rowspan=\"3\" valign=\"top\">羊</th>\n",
       "      <th>第一年</th>\n",
       "      <td>1.56</td>\n",
       "    </tr>\n",
       "    <tr>\n",
       "      <th>第三年</th>\n",
       "      <td>-10.40</td>\n",
       "    </tr>\n",
       "    <tr>\n",
       "      <th>第二年</th>\n",
       "      <td>32.30</td>\n",
       "    </tr>\n",
       "    <tr>\n",
       "      <th rowspan=\"3\" valign=\"top\">虎</th>\n",
       "      <th>第一年</th>\n",
       "      <td>-21.60</td>\n",
       "    </tr>\n",
       "    <tr>\n",
       "      <th>第三年</th>\n",
       "      <td>-22.40</td>\n",
       "    </tr>\n",
       "    <tr>\n",
       "      <th>第二年</th>\n",
       "      <td>9.58</td>\n",
       "    </tr>\n",
       "    <tr>\n",
       "      <th rowspan=\"3\" valign=\"top\">蛇</th>\n",
       "      <th>第一年</th>\n",
       "      <td>88.00</td>\n",
       "    </tr>\n",
       "    <tr>\n",
       "      <th>第三年</th>\n",
       "      <td>11.80</td>\n",
       "    </tr>\n",
       "    <tr>\n",
       "      <th>第二年</th>\n",
       "      <td>17.10</td>\n",
       "    </tr>\n",
       "    <tr>\n",
       "      <th rowspan=\"3\" valign=\"top\">豬</th>\n",
       "      <th>第一年</th>\n",
       "      <td>-27.40</td>\n",
       "    </tr>\n",
       "    <tr>\n",
       "      <th>第三年</th>\n",
       "      <td>23.30</td>\n",
       "    </tr>\n",
       "    <tr>\n",
       "      <th>第二年</th>\n",
       "      <td>8.72</td>\n",
       "    </tr>\n",
       "    <tr>\n",
       "      <th rowspan=\"3\" valign=\"top\">雞</th>\n",
       "      <th>第一年</th>\n",
       "      <td>79.80</td>\n",
       "    </tr>\n",
       "    <tr>\n",
       "      <th>第三年</th>\n",
       "      <td>15.00</td>\n",
       "    </tr>\n",
       "    <tr>\n",
       "      <th>第二年</th>\n",
       "      <td>6.66</td>\n",
       "    </tr>\n",
       "    <tr>\n",
       "      <th rowspan=\"3\" valign=\"top\">馬</th>\n",
       "      <th>第一年</th>\n",
       "      <td>-52.90</td>\n",
       "    </tr>\n",
       "    <tr>\n",
       "      <th>第三年</th>\n",
       "      <td>8.08</td>\n",
       "    </tr>\n",
       "    <tr>\n",
       "      <th>第二年</th>\n",
       "      <td>-19.80</td>\n",
       "    </tr>\n",
       "    <tr>\n",
       "      <th rowspan=\"3\" valign=\"top\">鼠</th>\n",
       "      <th>第一年</th>\n",
       "      <td>34.00</td>\n",
       "    </tr>\n",
       "    <tr>\n",
       "      <th>第三年</th>\n",
       "      <td>22.80</td>\n",
       "    </tr>\n",
       "    <tr>\n",
       "      <th>第二年</th>\n",
       "      <td>-46.00</td>\n",
       "    </tr>\n",
       "    <tr>\n",
       "      <th rowspan=\"3\" valign=\"top\">龍</th>\n",
       "      <th>第一年</th>\n",
       "      <td>119.00</td>\n",
       "    </tr>\n",
       "    <tr>\n",
       "      <th>第三年</th>\n",
       "      <td>8.87</td>\n",
       "    </tr>\n",
       "    <tr>\n",
       "      <th>第二年</th>\n",
       "      <td>-43.90</td>\n",
       "    </tr>\n",
       "  </tbody>\n",
       "</table>\n",
       "</div>"
      ],
      "text/plain": [
       "         漲跌 (%)\n",
       "生肖 year        \n",
       "兔  第一年   120.00\n",
       "   第三年   -21.20\n",
       "   第二年    31.60\n",
       "牛  第一年    18.10\n",
       "   第三年    23.70\n",
       "   第二年    78.30\n",
       "狗  第一年    17.40\n",
       "   第三年    -8.60\n",
       "   第二年    19.50\n",
       "猴  第一年   -26.60\n",
       "   第三年    11.00\n",
       "   第二年     4.23\n",
       "羊  第一年     1.56\n",
       "   第三年   -10.40\n",
       "   第二年    32.30\n",
       "虎  第一年   -21.60\n",
       "   第三年   -22.40\n",
       "   第二年     9.58\n",
       "蛇  第一年    88.00\n",
       "   第三年    11.80\n",
       "   第二年    17.10\n",
       "豬  第一年   -27.40\n",
       "   第三年    23.30\n",
       "   第二年     8.72\n",
       "雞  第一年    79.80\n",
       "   第三年    15.00\n",
       "   第二年     6.66\n",
       "馬  第一年   -52.90\n",
       "   第三年     8.08\n",
       "   第二年   -19.80\n",
       "鼠  第一年    34.00\n",
       "   第三年    22.80\n",
       "   第二年   -46.00\n",
       "龍  第一年   119.00\n",
       "   第三年     8.87\n",
       "   第二年   -43.90"
      ]
     },
     "execution_count": 27,
     "metadata": {},
     "output_type": "execute_result"
    }
   ],
   "source": [
    "# 各生肖漲跌平均\n",
    "data.pivot_table(values='漲跌 (%)', index=['生肖','year'])\n",
    "data.sort_values(by='year').pivot_table(values='漲跌 (%)', index=['生肖','year'])"
   ]
  },
  {
   "cell_type": "code",
   "execution_count": 15,
   "id": "372963fa",
   "metadata": {
    "scrolled": false
   },
   "outputs": [
    {
     "data": {
      "text/plain": [
       "<BarContainer object of 36 artists>"
      ]
     },
     "execution_count": 15,
     "metadata": {},
     "output_type": "execute_result"
    },
    {
     "name": "stderr",
     "output_type": "stream",
     "text": [
      "C:\\Program Files\\Python39\\lib\\site-packages\\IPython\\core\\events.py:89: UserWarning: Glyph 34382 (\\N{CJK UNIFIED IDEOGRAPH-864E}) missing from current font.\n",
      "  func(*args, **kwargs)\n",
      "C:\\Program Files\\Python39\\lib\\site-packages\\IPython\\core\\events.py:89: UserWarning: Glyph 29275 (\\N{CJK UNIFIED IDEOGRAPH-725B}) missing from current font.\n",
      "  func(*args, **kwargs)\n",
      "C:\\Program Files\\Python39\\lib\\site-packages\\IPython\\core\\events.py:89: UserWarning: Glyph 40736 (\\N{CJK UNIFIED IDEOGRAPH-9F20}) missing from current font.\n",
      "  func(*args, **kwargs)\n",
      "C:\\Program Files\\Python39\\lib\\site-packages\\IPython\\core\\events.py:89: UserWarning: Glyph 35948 (\\N{CJK UNIFIED IDEOGRAPH-8C6C}) missing from current font.\n",
      "  func(*args, **kwargs)\n",
      "C:\\Program Files\\Python39\\lib\\site-packages\\IPython\\core\\events.py:89: UserWarning: Glyph 29399 (\\N{CJK UNIFIED IDEOGRAPH-72D7}) missing from current font.\n",
      "  func(*args, **kwargs)\n",
      "C:\\Program Files\\Python39\\lib\\site-packages\\IPython\\core\\events.py:89: UserWarning: Glyph 38622 (\\N{CJK UNIFIED IDEOGRAPH-96DE}) missing from current font.\n",
      "  func(*args, **kwargs)\n",
      "C:\\Program Files\\Python39\\lib\\site-packages\\IPython\\core\\events.py:89: UserWarning: Glyph 29492 (\\N{CJK UNIFIED IDEOGRAPH-7334}) missing from current font.\n",
      "  func(*args, **kwargs)\n",
      "C:\\Program Files\\Python39\\lib\\site-packages\\IPython\\core\\events.py:89: UserWarning: Glyph 32650 (\\N{CJK UNIFIED IDEOGRAPH-7F8A}) missing from current font.\n",
      "  func(*args, **kwargs)\n",
      "C:\\Program Files\\Python39\\lib\\site-packages\\IPython\\core\\events.py:89: UserWarning: Glyph 39340 (\\N{CJK UNIFIED IDEOGRAPH-99AC}) missing from current font.\n",
      "  func(*args, **kwargs)\n",
      "C:\\Program Files\\Python39\\lib\\site-packages\\IPython\\core\\events.py:89: UserWarning: Glyph 34503 (\\N{CJK UNIFIED IDEOGRAPH-86C7}) missing from current font.\n",
      "  func(*args, **kwargs)\n",
      "C:\\Program Files\\Python39\\lib\\site-packages\\IPython\\core\\events.py:89: UserWarning: Glyph 40845 (\\N{CJK UNIFIED IDEOGRAPH-9F8D}) missing from current font.\n",
      "  func(*args, **kwargs)\n",
      "C:\\Program Files\\Python39\\lib\\site-packages\\IPython\\core\\events.py:89: UserWarning: Glyph 20820 (\\N{CJK UNIFIED IDEOGRAPH-5154}) missing from current font.\n",
      "  func(*args, **kwargs)\n",
      "C:\\Program Files\\Python39\\lib\\site-packages\\IPython\\core\\pylabtools.py:152: UserWarning: Glyph 34382 (\\N{CJK UNIFIED IDEOGRAPH-864E}) missing from current font.\n",
      "  fig.canvas.print_figure(bytes_io, **kw)\n",
      "C:\\Program Files\\Python39\\lib\\site-packages\\IPython\\core\\pylabtools.py:152: UserWarning: Glyph 29275 (\\N{CJK UNIFIED IDEOGRAPH-725B}) missing from current font.\n",
      "  fig.canvas.print_figure(bytes_io, **kw)\n",
      "C:\\Program Files\\Python39\\lib\\site-packages\\IPython\\core\\pylabtools.py:152: UserWarning: Glyph 40736 (\\N{CJK UNIFIED IDEOGRAPH-9F20}) missing from current font.\n",
      "  fig.canvas.print_figure(bytes_io, **kw)\n",
      "C:\\Program Files\\Python39\\lib\\site-packages\\IPython\\core\\pylabtools.py:152: UserWarning: Glyph 35948 (\\N{CJK UNIFIED IDEOGRAPH-8C6C}) missing from current font.\n",
      "  fig.canvas.print_figure(bytes_io, **kw)\n",
      "C:\\Program Files\\Python39\\lib\\site-packages\\IPython\\core\\pylabtools.py:152: UserWarning: Glyph 29399 (\\N{CJK UNIFIED IDEOGRAPH-72D7}) missing from current font.\n",
      "  fig.canvas.print_figure(bytes_io, **kw)\n",
      "C:\\Program Files\\Python39\\lib\\site-packages\\IPython\\core\\pylabtools.py:152: UserWarning: Glyph 38622 (\\N{CJK UNIFIED IDEOGRAPH-96DE}) missing from current font.\n",
      "  fig.canvas.print_figure(bytes_io, **kw)\n",
      "C:\\Program Files\\Python39\\lib\\site-packages\\IPython\\core\\pylabtools.py:152: UserWarning: Glyph 29492 (\\N{CJK UNIFIED IDEOGRAPH-7334}) missing from current font.\n",
      "  fig.canvas.print_figure(bytes_io, **kw)\n",
      "C:\\Program Files\\Python39\\lib\\site-packages\\IPython\\core\\pylabtools.py:152: UserWarning: Glyph 32650 (\\N{CJK UNIFIED IDEOGRAPH-7F8A}) missing from current font.\n",
      "  fig.canvas.print_figure(bytes_io, **kw)\n",
      "C:\\Program Files\\Python39\\lib\\site-packages\\IPython\\core\\pylabtools.py:152: UserWarning: Glyph 39340 (\\N{CJK UNIFIED IDEOGRAPH-99AC}) missing from current font.\n",
      "  fig.canvas.print_figure(bytes_io, **kw)\n",
      "C:\\Program Files\\Python39\\lib\\site-packages\\IPython\\core\\pylabtools.py:152: UserWarning: Glyph 34503 (\\N{CJK UNIFIED IDEOGRAPH-86C7}) missing from current font.\n",
      "  fig.canvas.print_figure(bytes_io, **kw)\n",
      "C:\\Program Files\\Python39\\lib\\site-packages\\IPython\\core\\pylabtools.py:152: UserWarning: Glyph 40845 (\\N{CJK UNIFIED IDEOGRAPH-9F8D}) missing from current font.\n",
      "  fig.canvas.print_figure(bytes_io, **kw)\n",
      "C:\\Program Files\\Python39\\lib\\site-packages\\IPython\\core\\pylabtools.py:152: UserWarning: Glyph 20820 (\\N{CJK UNIFIED IDEOGRAPH-5154}) missing from current font.\n",
      "  fig.canvas.print_figure(bytes_io, **kw)\n"
     ]
    },
    {
     "data": {
      "image/png": "[encoded data removed]",
      "text/plain": [
       "<Figure size 640x440 with 1 Axes>"
      ]
     },
     "metadata": {},
     "output_type": "display_data"
    }
   ],
   "source": [
    "import matplotlib.pyplot as plt\n",
    "\n",
    "colors = ['r','b','g','y','m']\n",
    "\n",
    "plt.bar(data['生肖'], sorted(data['漲跌 (%)']))\n",
    "# 會畫一個範圍\n",
    "# 畫平均"
   ]
  },
  {
   "cell_type": "code",
   "execution_count": 25,
   "id": "aba0df6d",
   "metadata": {},
   "outputs": [
    {
     "data": {
      "text/plain": [
       "<BarContainer object of 36 artists>"
      ]
     },
     "execution_count": 25,
     "metadata": {},
     "output_type": "execute_result"
    },
    {
     "data": {
      "image/png": "[encoded data removed]",
      "text/plain": [
       "<Figure size 640x480 with 1 Axes>"
      ]
     },
     "metadata": {},
     "output_type": "display_data"
    }
   ],
   "source": [
    "plt.bar(data['交易 年度'], data['漲跌'])"
   ]
  },
  {
   "cell_type": "code",
   "execution_count": 12,
   "id": "e1dacb85",
   "metadata": {},
   "outputs": [
    {
     "data": {
      "text/plain": [
       "<BarContainer object of 36 artists>"
      ]
     },
     "execution_count": 12,
     "metadata": {},
     "output_type": "execute_result"
    },
    {
     "data": {
      "image/png": "[encoded data removed]",
      "text/plain": [
       "<Figure size 640x480 with 1 Axes>"
      ]
     },
     "metadata": {},
     "output_type": "display_data"
    }
   ],
   "source": [
    "plt.bar(data['生肖'], data['漲跌 (%)'])"
   ]
  },
  {
   "cell_type": "code",
   "execution_count": null,
   "id": "7030b89b",
   "metadata": {},
   "outputs": [],
   "source": []
  }
 ],
 "metadata": {
  "kernelspec": {
   "display_name": "Python 3 (ipykernel)",
   "language": "python",
   "name": "python3"
  },
  "language_info": {
   "codemirror_mode": {
    "name": "ipython",
    "version": 3
   },
   "file_extension": ".py",
   "mimetype": "text/x-python",
   "name": "python",
   "nbconvert_exporter": "python",
   "pygments_lexer": "ipython3",
   "version": "3.9.13"
  }
 },
 "nbformat": 4,
 "nbformat_minor": 5
}
